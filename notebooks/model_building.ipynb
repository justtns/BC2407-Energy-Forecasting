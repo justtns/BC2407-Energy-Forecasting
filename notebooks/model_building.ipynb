{
 "cells": [
  {
   "cell_type": "code",
   "execution_count": 1,
   "metadata": {},
   "outputs": [],
   "source": [
    "import pandas as pd\n",
    "import numpy as np\n",
    "import matplotlib.pyplot as plt\n",
    "import tensorflow as tf\n",
    "from sklearn.preprocessing import MinMaxScaler\n",
    "from sklearn.metrics import mean_squared_error, r2_score\n",
    "from statsmodels.tsa.stattools import adfuller\n",
    "import pickle\n"
   ]
  },
  {
   "cell_type": "code",
   "execution_count": 2,
   "metadata": {},
   "outputs": [],
   "source": [
    "demand_features = [\"eic_count\",\n",
    "\"temperature\",\n",
    "\"rain\",\n",
    "\"surface_pressure\",\n",
    "\"cloudcover_total\",\n",
    "\"cloudcover_low\",\n",
    "\"cloudcover_mid\",\n",
    "\"windspeed_10m\",\n",
    "\"diffuse_radiation\",\n",
    "\"lowest_price_per_mwh\",\n",
    "\"euros_per_mwh\",\n",
    "\"24h_forecasted_10_metre_u_wind_component\",\n",
    "\"24h_forecasted_10_metre_v_wind_component\",\n",
    "\"24h_forecasted_direct_solar_radiation\",\n",
    "\"diff_demand\",\n",
    "\"hour\",\n",
    "\"day\",\n",
    "\"target_production\",\n",
    "\"capacity_per_eic\",\n",
    "\"Weekday\"]\n",
    "\n",
    "\n",
    "supply_features = [\"eic_count\",\n",
    "\"temperature\",\n",
    "\"rain\",\n",
    "\"surface_pressure\",\n",
    "\"cloudcover_total\",\n",
    "\"cloudcover_low\",\n",
    "\"cloudcover_mid\",\n",
    "\"cloudcover_high\",\n",
    "\"windspeed_10m\",\n",
    "\"diffuse_radiation\",\n",
    "\"lowest_price_per_mwh\",\n",
    "'euros_per_mwh',\n",
    "\"24h_forecasted_cloudcover_high\",\n",
    "\"24h_forecasted_cloudcover_low\",\n",
    "\"24h_forecasted_10_metre_u_wind_component\",\n",
    "\"24h_forecasted_10_metre_v_wind_component\",\n",
    "\"24h_forecasted_direct_solar_radiation\",\n",
    "\"diff_supply\",\n",
    "\"hour\",\n",
    "\"target_production\"]"
   ]
  },
  {
   "cell_type": "markdown",
   "metadata": {},
   "source": [
    "## Feature Engineering"
   ]
  },
  {
   "cell_type": "code",
   "execution_count": 6,
   "metadata": {},
   "outputs": [],
   "source": [
    "df = pd.read_parquet(\"../data/processed/ENEFIT_dataset.parquet\")\n",
    "df['hour'] = df.index.hour\n",
    "df['month'] = df.index.month\n",
    "df['day'] = df.index.weekday + 1\n",
    "df['target_production'] = df['installed_capacity'] * df['direct_solar_radiation'] / (df['temperature'] + 273.15)\n",
    "df[\"capacity_per_eic\"] = np.round(df[\"installed_capacity\"] / df[\"eic_count\"], 2)\n",
    "df['Weekday'] = [0 if day > 4 else 1 for day in df.index.dayofweek]\n",
    "df['Weekday'] = df['Weekday'].astype('int64')  # Explicitly cast to int64"
   ]
  },
  {
   "cell_type": "code",
   "execution_count": 4,
   "metadata": {},
   "outputs": [],
   "source": [
    "def split_series(df, n_past, n_future, target_column_name, feature_column_names):\n",
    "    \"\"\"\n",
    "    Split a DataFrame into past features and future target arrays.\n",
    "\n",
    "    Parameters:\n",
    "    - df: DataFrame containing the time series data.\n",
    "    - n_past: Number of past observations to use for predicting the future.\n",
    "    - n_future: Number of future observations to predict.\n",
    "    - target_column_name: Name of the target column.\n",
    "    - feature_column_names: List of column names to be used as features.\n",
    "    - scaling: if dataset is scaled REMOVED\n",
    "\n",
    "    Returns:\n",
    "    - X: Array of past observations' features.\n",
    "    - y: Array of future observations' target values.\n",
    "    Only if scaling is true:\n",
    "    - feature_scaler: scaler for X REMOVED\n",
    "    - target_scaler: scaler for y REMOVED\n",
    "    \"\"\"\n",
    "\n",
    "    # if scaling == 1:\n",
    "    #     feature_scaler = MinMaxScaler()\n",
    "    #     target_scaler = MinMaxScaler()\n",
    "        \n",
    "    #     # Fit the scalers\n",
    "    #     feature_scaler.fit(df[feature_column_names])\n",
    "    #     target_scaler.fit(df[[target_column_name]])\n",
    "        \n",
    "    #     # Apply the transformations\n",
    "    #     scaled_features = feature_scaler.transform(df[feature_column_names])\n",
    "    #     scaled_target = target_scaler.transform(df[[target_column_name]])\n",
    "\n",
    "    X, y = list(), list()\n",
    "    for window_start in range(len(df)):\n",
    "        past_end = window_start + n_past\n",
    "        future_end = past_end + n_future\n",
    "        if future_end > len(df):\n",
    "            break\n",
    "        # Select the columns by name for the past and future segments\n",
    "        # if scaling == 1:\n",
    "        #     past = scaled_features[window_start:past_end]\n",
    "        #     future = scaled_target[past_end:future_end]\n",
    "        past = df.iloc[window_start:past_end][feature_column_names].values\n",
    "        future = df.iloc[past_end:future_end][target_column_name].values\n",
    "        X.append(past)\n",
    "        y.append(future)\n",
    "    X, y = np.array(X), np.array(y)\n",
    "    print(f\"X shape: {X.shape}, y shape: {y.shape}\")\n",
    "    # if scaling == 1:\n",
    "    #     return X, y, feature_scaler, target_scaler\n",
    "    return X, y\n",
    "\n",
    "def reformat_predictions_actual(pred, org_X_train):\n",
    "       '''\n",
    "       Converts the diff predictions into the original values, returns actual predictions and original values\n",
    "       y_train[1:,:] + org_y_train[0:-1,:] == org_y_train[1]\n",
    "       '''\n",
    "       final_predictions = np.zeros_like(pred)\n",
    "\n",
    "       for i in range(pred.shape[0]):\n",
    "              final_predictions[i, 0] = org_X_train[i,-1] + pred[i,0]\n",
    "              for j in range(1, pred.shape[1]):\n",
    "                     final_predictions[i, j] = final_predictions[i, j-1] + pred[i, j]\n",
    "       return final_predictions"
   ]
  },
  {
   "cell_type": "markdown",
   "metadata": {},
   "source": [
    "## DEMAND FORECAST"
   ]
  },
  {
   "cell_type": "code",
   "execution_count": 212,
   "metadata": {},
   "outputs": [
    {
     "name": "stdout",
     "output_type": "stream",
     "text": [
      "X shape: (10614, 24, 20), y shape: (10614, 24)\n",
      "X shape: (2237, 24, 20), y shape: (2237, 24)\n",
      "X shape: (2239, 24, 20), y shape: (2239, 24)\n",
      "X shape: (10614, 24, 20), y shape: (10614, 24)\n",
      "X shape: (2237, 24, 20), y shape: (2237, 24)\n",
      "X shape: (2239, 24, 20), y shape: (2239, 24)\n",
      "X shape: (10614, 24), y shape: (10614, 24)\n",
      "X shape: (2237, 24), y shape: (2237, 24)\n",
      "X shape: (2239, 24), y shape: (2239, 24)\n",
      "X shape: (10614, 24), y shape: (10614, 24)\n",
      "X shape: (2237, 24), y shape: (2237, 24)\n",
      "X shape: (2239, 24), y shape: (2239, 24)\n"
     ]
    },
    {
     "ename": "",
     "evalue": "",
     "output_type": "error",
     "traceback": [
      "\u001b[1;31mThe Kernel crashed while executing code in the current cell or a previous cell. \n",
      "\u001b[1;31mPlease review the code in the cell(s) to identify a possible cause of the failure. \n",
      "\u001b[1;31mClick <a href='https://aka.ms/vscodeJupyterKernelCrash'>here</a> for more info. \n",
      "\u001b[1;31mView Jupyter <a href='command:jupyter.viewOutput'>log</a> for further details."
     ]
    }
   ],
   "source": [
    "\n",
    "n_past = 24\n",
    "n_future = 24\n",
    "target_column_name = 'diff_demand'\n",
    "train_df, val_df, test_df = df[1:int(len(df)*0.7)], df[int(len(df)*0.7):int(len(df)*0.7)+int(len(df)*0.15)], df[int(len(df)*0.7)+int(len(df)*0.15):] \n",
    "feature_column_names = demand_features\n",
    "\n",
    "dataframe_scaler = MinMaxScaler()\n",
    "dataframe_scaler = dataframe_scaler.fit(train_df)\n",
    "inverse_scaler = MinMaxScaler()\n",
    "inverse_scaler = inverse_scaler.fit(train_df[[target_column_name]])\n",
    "scaled_train_df = pd.DataFrame(dataframe_scaler.transform(train_df), columns = train_df.columns)\n",
    "scaled_val_df = pd.DataFrame(dataframe_scaler.transform(val_df), columns = val_df.columns)\n",
    "scaled_test_df = pd.DataFrame(dataframe_scaler.transform(test_df), columns = test_df.columns)\n",
    "\n",
    "scaled_X_train, scaled_y_train = split_series(scaled_train_df,n_past, n_future, target_column_name, feature_column_names)\n",
    "scaled_X_val, scaled_y_val = split_series(scaled_val_df,n_past, n_future, target_column_name, feature_column_names)\n",
    "scaled_X_test, scaled_y_test = split_series(scaled_test_df,n_past, n_future, target_column_name, feature_column_names)\n",
    "\n",
    "X_train, y_train = split_series(train_df,n_past, n_future, target_column_name, feature_column_names)\n",
    "X_val, y_val = split_series(val_df,n_past, n_future, target_column_name, feature_column_names)\n",
    "X_test, y_test = split_series(test_df,n_past, n_future, target_column_name, feature_column_names)\n",
    "\n",
    "ARIMA_X_train, ARIMA_y_train = split_series(train_df,n_past, n_future, target_column_name, target_column_name)\n",
    "ARIMA_X_val, ARIMA_y_val = split_series(val_df,n_past, n_future, target_column_name, target_column_name)\n",
    "ARIMA_X_test, ARIMA_y_test = split_series(test_df,n_past, n_future, target_column_name, target_column_name)\n",
    "\n",
    "org_X_train, org_y_train = split_series(train_df,n_past, n_future, 'demand', 'demand')\n",
    "org_X_val, org_y_val = split_series(val_df,n_past, n_future, 'demand', 'demand')\n",
    "org_X_test, org_y_test = split_series(test_df,n_past, n_future, 'demand', 'demand')"
   ]
  },
  {
   "cell_type": "code",
   "execution_count": 179,
   "metadata": {},
   "outputs": [],
   "source": [
    "org_results = {\"train\": org_X_train, \"val\": org_X_val, \"test\": org_X_test}"
   ]
  },
  {
   "cell_type": "code",
   "execution_count": 180,
   "metadata": {},
   "outputs": [],
   "source": [
    "with open(\"../results/demand_org_results.pkl\", \"wb\") as outfile: \n",
    "    pickle.dump(org_results, outfile)"
   ]
  },
  {
   "cell_type": "markdown",
   "metadata": {},
   "source": [
    "### RANDOM FOREST"
   ]
  },
  {
   "cell_type": "code",
   "execution_count": 181,
   "metadata": {},
   "outputs": [],
   "source": [
    "from sklearn.ensemble import RandomForestRegressor\n",
    "\n",
    "X_train_flat = X_train.reshape(X_train.shape[0], -1)  \n",
    "X_val_flat = X_val.reshape(X_val.shape[0], -1)\n",
    "X_test_flat = X_test.reshape(X_test.shape[0], -1)"
   ]
  },
  {
   "cell_type": "code",
   "execution_count": null,
   "metadata": {},
   "outputs": [
    {
     "name": "stdout",
     "output_type": "stream",
     "text": [
      "50 trees: OOB error = 0.18261261844416887\n",
      "100 trees: OOB error = 0.17434446247084745\n",
      "150 trees: OOB error = 0.17181308775154813\n",
      "200 trees: OOB error = 0.17064326441488953\n",
      "250 trees: OOB error = 0.1698825527241431\n",
      "300 trees: OOB error = 0.16942793593592143\n",
      "350 trees: OOB error = 0.16902781364748642\n",
      "400 trees: OOB error = 0.1686335075753913\n",
      "450 trees: OOB error = 0.16839645346972698\n",
      "500 trees: OOB error = 0.16829917323168642\n",
      "600 trees: OOB error = 0.16812976527365064\n",
      "650 trees: OOB error = 0.16807095782730552\n",
      "700 trees: OOB error = 0.16798536635525918\n",
      "750 trees: OOB error = 0.16785864262930206\n"
     ]
    },
    {
     "ename": "KeyboardInterrupt",
     "evalue": "",
     "output_type": "error",
     "traceback": [
      "\u001b[0;31m---------------------------------------------------------------------------\u001b[0m",
      "\u001b[0;31mKeyboardInterrupt\u001b[0m                         Traceback (most recent call last)",
      "Cell \u001b[0;32mIn[9], line 13\u001b[0m\n\u001b[1;32m      7\u001b[0m \u001b[38;5;28;01mfor\u001b[39;00m n_estimators \u001b[38;5;129;01min\u001b[39;00m best_params[\u001b[38;5;124m'\u001b[39m\u001b[38;5;124mn_estimators\u001b[39m\u001b[38;5;124m'\u001b[39m]:\n\u001b[1;32m      8\u001b[0m     rf \u001b[38;5;241m=\u001b[39m RandomForestRegressor(\n\u001b[1;32m      9\u001b[0m         n_estimators\u001b[38;5;241m=\u001b[39mn_estimators,\n\u001b[1;32m     10\u001b[0m         max_features \u001b[38;5;241m=\u001b[39m \u001b[38;5;28mfloat\u001b[39m(\u001b[38;5;241m1\u001b[39m\u001b[38;5;241m/\u001b[39m\u001b[38;5;241m3\u001b[39m),\n\u001b[1;32m     11\u001b[0m         oob_score\u001b[38;5;241m=\u001b[39m\u001b[38;5;28;01mTrue\u001b[39;00m,\n\u001b[1;32m     12\u001b[0m         random_state\u001b[38;5;241m=\u001b[39m\u001b[38;5;241m42\u001b[39m)\n\u001b[0;32m---> 13\u001b[0m     \u001b[43mrf\u001b[49m\u001b[38;5;241;43m.\u001b[39;49m\u001b[43mfit\u001b[49m\u001b[43m(\u001b[49m\u001b[43mX_train_flat\u001b[49m\u001b[43m,\u001b[49m\u001b[43m \u001b[49m\u001b[43my_train\u001b[49m\u001b[43m)\u001b[49m\n\u001b[1;32m     14\u001b[0m     oob_error \u001b[38;5;241m=\u001b[39m \u001b[38;5;241m1\u001b[39m \u001b[38;5;241m-\u001b[39m rf\u001b[38;5;241m.\u001b[39moob_score_\n\u001b[1;32m     15\u001b[0m     oob_errors\u001b[38;5;241m.\u001b[39mappend(oob_error)\n",
      "File \u001b[0;32m~/opt/anaconda3/envs/ureca_env/lib/python3.10/site-packages/sklearn/base.py:1152\u001b[0m, in \u001b[0;36m_fit_context.<locals>.decorator.<locals>.wrapper\u001b[0;34m(estimator, *args, **kwargs)\u001b[0m\n\u001b[1;32m   1145\u001b[0m     estimator\u001b[38;5;241m.\u001b[39m_validate_params()\n\u001b[1;32m   1147\u001b[0m \u001b[38;5;28;01mwith\u001b[39;00m config_context(\n\u001b[1;32m   1148\u001b[0m     skip_parameter_validation\u001b[38;5;241m=\u001b[39m(\n\u001b[1;32m   1149\u001b[0m         prefer_skip_nested_validation \u001b[38;5;129;01mor\u001b[39;00m global_skip_validation\n\u001b[1;32m   1150\u001b[0m     )\n\u001b[1;32m   1151\u001b[0m ):\n\u001b[0;32m-> 1152\u001b[0m     \u001b[38;5;28;01mreturn\u001b[39;00m \u001b[43mfit_method\u001b[49m\u001b[43m(\u001b[49m\u001b[43mestimator\u001b[49m\u001b[43m,\u001b[49m\u001b[43m \u001b[49m\u001b[38;5;241;43m*\u001b[39;49m\u001b[43margs\u001b[49m\u001b[43m,\u001b[49m\u001b[43m \u001b[49m\u001b[38;5;241;43m*\u001b[39;49m\u001b[38;5;241;43m*\u001b[39;49m\u001b[43mkwargs\u001b[49m\u001b[43m)\u001b[49m\n",
      "File \u001b[0;32m~/opt/anaconda3/envs/ureca_env/lib/python3.10/site-packages/sklearn/ensemble/_forest.py:456\u001b[0m, in \u001b[0;36mBaseForest.fit\u001b[0;34m(self, X, y, sample_weight)\u001b[0m\n\u001b[1;32m    445\u001b[0m trees \u001b[38;5;241m=\u001b[39m [\n\u001b[1;32m    446\u001b[0m     \u001b[38;5;28mself\u001b[39m\u001b[38;5;241m.\u001b[39m_make_estimator(append\u001b[38;5;241m=\u001b[39m\u001b[38;5;28;01mFalse\u001b[39;00m, random_state\u001b[38;5;241m=\u001b[39mrandom_state)\n\u001b[1;32m    447\u001b[0m     \u001b[38;5;28;01mfor\u001b[39;00m i \u001b[38;5;129;01min\u001b[39;00m \u001b[38;5;28mrange\u001b[39m(n_more_estimators)\n\u001b[1;32m    448\u001b[0m ]\n\u001b[1;32m    450\u001b[0m \u001b[38;5;66;03m# Parallel loop: we prefer the threading backend as the Cython code\u001b[39;00m\n\u001b[1;32m    451\u001b[0m \u001b[38;5;66;03m# for fitting the trees is internally releasing the Python GIL\u001b[39;00m\n\u001b[1;32m    452\u001b[0m \u001b[38;5;66;03m# making threading more efficient than multiprocessing in\u001b[39;00m\n\u001b[1;32m    453\u001b[0m \u001b[38;5;66;03m# that case. However, for joblib 0.12+ we respect any\u001b[39;00m\n\u001b[1;32m    454\u001b[0m \u001b[38;5;66;03m# parallel_backend contexts set at a higher level,\u001b[39;00m\n\u001b[1;32m    455\u001b[0m \u001b[38;5;66;03m# since correctness does not rely on using threads.\u001b[39;00m\n\u001b[0;32m--> 456\u001b[0m trees \u001b[38;5;241m=\u001b[39m \u001b[43mParallel\u001b[49m\u001b[43m(\u001b[49m\n\u001b[1;32m    457\u001b[0m \u001b[43m    \u001b[49m\u001b[43mn_jobs\u001b[49m\u001b[38;5;241;43m=\u001b[39;49m\u001b[38;5;28;43mself\u001b[39;49m\u001b[38;5;241;43m.\u001b[39;49m\u001b[43mn_jobs\u001b[49m\u001b[43m,\u001b[49m\n\u001b[1;32m    458\u001b[0m \u001b[43m    \u001b[49m\u001b[43mverbose\u001b[49m\u001b[38;5;241;43m=\u001b[39;49m\u001b[38;5;28;43mself\u001b[39;49m\u001b[38;5;241;43m.\u001b[39;49m\u001b[43mverbose\u001b[49m\u001b[43m,\u001b[49m\n\u001b[1;32m    459\u001b[0m \u001b[43m    \u001b[49m\u001b[43mprefer\u001b[49m\u001b[38;5;241;43m=\u001b[39;49m\u001b[38;5;124;43m\"\u001b[39;49m\u001b[38;5;124;43mthreads\u001b[39;49m\u001b[38;5;124;43m\"\u001b[39;49m\u001b[43m,\u001b[49m\n\u001b[1;32m    460\u001b[0m \u001b[43m\u001b[49m\u001b[43m)\u001b[49m\u001b[43m(\u001b[49m\n\u001b[1;32m    461\u001b[0m \u001b[43m    \u001b[49m\u001b[43mdelayed\u001b[49m\u001b[43m(\u001b[49m\u001b[43m_parallel_build_trees\u001b[49m\u001b[43m)\u001b[49m\u001b[43m(\u001b[49m\n\u001b[1;32m    462\u001b[0m \u001b[43m        \u001b[49m\u001b[43mt\u001b[49m\u001b[43m,\u001b[49m\n\u001b[1;32m    463\u001b[0m \u001b[43m        \u001b[49m\u001b[38;5;28;43mself\u001b[39;49m\u001b[38;5;241;43m.\u001b[39;49m\u001b[43mbootstrap\u001b[49m\u001b[43m,\u001b[49m\n\u001b[1;32m    464\u001b[0m \u001b[43m        \u001b[49m\u001b[43mX\u001b[49m\u001b[43m,\u001b[49m\n\u001b[1;32m    465\u001b[0m \u001b[43m        \u001b[49m\u001b[43my\u001b[49m\u001b[43m,\u001b[49m\n\u001b[1;32m    466\u001b[0m \u001b[43m        \u001b[49m\u001b[43msample_weight\u001b[49m\u001b[43m,\u001b[49m\n\u001b[1;32m    467\u001b[0m \u001b[43m        \u001b[49m\u001b[43mi\u001b[49m\u001b[43m,\u001b[49m\n\u001b[1;32m    468\u001b[0m \u001b[43m        \u001b[49m\u001b[38;5;28;43mlen\u001b[39;49m\u001b[43m(\u001b[49m\u001b[43mtrees\u001b[49m\u001b[43m)\u001b[49m\u001b[43m,\u001b[49m\n\u001b[1;32m    469\u001b[0m \u001b[43m        \u001b[49m\u001b[43mverbose\u001b[49m\u001b[38;5;241;43m=\u001b[39;49m\u001b[38;5;28;43mself\u001b[39;49m\u001b[38;5;241;43m.\u001b[39;49m\u001b[43mverbose\u001b[49m\u001b[43m,\u001b[49m\n\u001b[1;32m    470\u001b[0m \u001b[43m        \u001b[49m\u001b[43mclass_weight\u001b[49m\u001b[38;5;241;43m=\u001b[39;49m\u001b[38;5;28;43mself\u001b[39;49m\u001b[38;5;241;43m.\u001b[39;49m\u001b[43mclass_weight\u001b[49m\u001b[43m,\u001b[49m\n\u001b[1;32m    471\u001b[0m \u001b[43m        \u001b[49m\u001b[43mn_samples_bootstrap\u001b[49m\u001b[38;5;241;43m=\u001b[39;49m\u001b[43mn_samples_bootstrap\u001b[49m\u001b[43m,\u001b[49m\n\u001b[1;32m    472\u001b[0m \u001b[43m    \u001b[49m\u001b[43m)\u001b[49m\n\u001b[1;32m    473\u001b[0m \u001b[43m    \u001b[49m\u001b[38;5;28;43;01mfor\u001b[39;49;00m\u001b[43m \u001b[49m\u001b[43mi\u001b[49m\u001b[43m,\u001b[49m\u001b[43m \u001b[49m\u001b[43mt\u001b[49m\u001b[43m \u001b[49m\u001b[38;5;129;43;01min\u001b[39;49;00m\u001b[43m \u001b[49m\u001b[38;5;28;43menumerate\u001b[39;49m\u001b[43m(\u001b[49m\u001b[43mtrees\u001b[49m\u001b[43m)\u001b[49m\n\u001b[1;32m    474\u001b[0m \u001b[43m\u001b[49m\u001b[43m)\u001b[49m\n\u001b[1;32m    476\u001b[0m \u001b[38;5;66;03m# Collect newly grown trees\u001b[39;00m\n\u001b[1;32m    477\u001b[0m \u001b[38;5;28mself\u001b[39m\u001b[38;5;241m.\u001b[39mestimators_\u001b[38;5;241m.\u001b[39mextend(trees)\n",
      "File \u001b[0;32m~/opt/anaconda3/envs/ureca_env/lib/python3.10/site-packages/sklearn/utils/parallel.py:65\u001b[0m, in \u001b[0;36mParallel.__call__\u001b[0;34m(self, iterable)\u001b[0m\n\u001b[1;32m     60\u001b[0m config \u001b[38;5;241m=\u001b[39m get_config()\n\u001b[1;32m     61\u001b[0m iterable_with_config \u001b[38;5;241m=\u001b[39m (\n\u001b[1;32m     62\u001b[0m     (_with_config(delayed_func, config), args, kwargs)\n\u001b[1;32m     63\u001b[0m     \u001b[38;5;28;01mfor\u001b[39;00m delayed_func, args, kwargs \u001b[38;5;129;01min\u001b[39;00m iterable\n\u001b[1;32m     64\u001b[0m )\n\u001b[0;32m---> 65\u001b[0m \u001b[38;5;28;01mreturn\u001b[39;00m \u001b[38;5;28;43msuper\u001b[39;49m\u001b[43m(\u001b[49m\u001b[43m)\u001b[49m\u001b[38;5;241;43m.\u001b[39;49m\u001b[38;5;21;43m__call__\u001b[39;49m\u001b[43m(\u001b[49m\u001b[43miterable_with_config\u001b[49m\u001b[43m)\u001b[49m\n",
      "File \u001b[0;32m~/opt/anaconda3/envs/ureca_env/lib/python3.10/site-packages/joblib/parallel.py:1863\u001b[0m, in \u001b[0;36mParallel.__call__\u001b[0;34m(self, iterable)\u001b[0m\n\u001b[1;32m   1861\u001b[0m     output \u001b[38;5;241m=\u001b[39m \u001b[38;5;28mself\u001b[39m\u001b[38;5;241m.\u001b[39m_get_sequential_output(iterable)\n\u001b[1;32m   1862\u001b[0m     \u001b[38;5;28mnext\u001b[39m(output)\n\u001b[0;32m-> 1863\u001b[0m     \u001b[38;5;28;01mreturn\u001b[39;00m output \u001b[38;5;28;01mif\u001b[39;00m \u001b[38;5;28mself\u001b[39m\u001b[38;5;241m.\u001b[39mreturn_generator \u001b[38;5;28;01melse\u001b[39;00m \u001b[38;5;28;43mlist\u001b[39;49m\u001b[43m(\u001b[49m\u001b[43moutput\u001b[49m\u001b[43m)\u001b[49m\n\u001b[1;32m   1865\u001b[0m \u001b[38;5;66;03m# Let's create an ID that uniquely identifies the current call. If the\u001b[39;00m\n\u001b[1;32m   1866\u001b[0m \u001b[38;5;66;03m# call is interrupted early and that the same instance is immediately\u001b[39;00m\n\u001b[1;32m   1867\u001b[0m \u001b[38;5;66;03m# re-used, this id will be used to prevent workers that were\u001b[39;00m\n\u001b[1;32m   1868\u001b[0m \u001b[38;5;66;03m# concurrently finalizing a task from the previous call to run the\u001b[39;00m\n\u001b[1;32m   1869\u001b[0m \u001b[38;5;66;03m# callback.\u001b[39;00m\n\u001b[1;32m   1870\u001b[0m \u001b[38;5;28;01mwith\u001b[39;00m \u001b[38;5;28mself\u001b[39m\u001b[38;5;241m.\u001b[39m_lock:\n",
      "File \u001b[0;32m~/opt/anaconda3/envs/ureca_env/lib/python3.10/site-packages/joblib/parallel.py:1792\u001b[0m, in \u001b[0;36mParallel._get_sequential_output\u001b[0;34m(self, iterable)\u001b[0m\n\u001b[1;32m   1790\u001b[0m \u001b[38;5;28mself\u001b[39m\u001b[38;5;241m.\u001b[39mn_dispatched_batches \u001b[38;5;241m+\u001b[39m\u001b[38;5;241m=\u001b[39m \u001b[38;5;241m1\u001b[39m\n\u001b[1;32m   1791\u001b[0m \u001b[38;5;28mself\u001b[39m\u001b[38;5;241m.\u001b[39mn_dispatched_tasks \u001b[38;5;241m+\u001b[39m\u001b[38;5;241m=\u001b[39m \u001b[38;5;241m1\u001b[39m\n\u001b[0;32m-> 1792\u001b[0m res \u001b[38;5;241m=\u001b[39m \u001b[43mfunc\u001b[49m\u001b[43m(\u001b[49m\u001b[38;5;241;43m*\u001b[39;49m\u001b[43margs\u001b[49m\u001b[43m,\u001b[49m\u001b[43m \u001b[49m\u001b[38;5;241;43m*\u001b[39;49m\u001b[38;5;241;43m*\u001b[39;49m\u001b[43mkwargs\u001b[49m\u001b[43m)\u001b[49m\n\u001b[1;32m   1793\u001b[0m \u001b[38;5;28mself\u001b[39m\u001b[38;5;241m.\u001b[39mn_completed_tasks \u001b[38;5;241m+\u001b[39m\u001b[38;5;241m=\u001b[39m \u001b[38;5;241m1\u001b[39m\n\u001b[1;32m   1794\u001b[0m \u001b[38;5;28mself\u001b[39m\u001b[38;5;241m.\u001b[39mprint_progress()\n",
      "File \u001b[0;32m~/opt/anaconda3/envs/ureca_env/lib/python3.10/site-packages/sklearn/utils/parallel.py:127\u001b[0m, in \u001b[0;36m_FuncWrapper.__call__\u001b[0;34m(self, *args, **kwargs)\u001b[0m\n\u001b[1;32m    125\u001b[0m     config \u001b[38;5;241m=\u001b[39m {}\n\u001b[1;32m    126\u001b[0m \u001b[38;5;28;01mwith\u001b[39;00m config_context(\u001b[38;5;241m*\u001b[39m\u001b[38;5;241m*\u001b[39mconfig):\n\u001b[0;32m--> 127\u001b[0m     \u001b[38;5;28;01mreturn\u001b[39;00m \u001b[38;5;28;43mself\u001b[39;49m\u001b[38;5;241;43m.\u001b[39;49m\u001b[43mfunction\u001b[49m\u001b[43m(\u001b[49m\u001b[38;5;241;43m*\u001b[39;49m\u001b[43margs\u001b[49m\u001b[43m,\u001b[49m\u001b[43m \u001b[49m\u001b[38;5;241;43m*\u001b[39;49m\u001b[38;5;241;43m*\u001b[39;49m\u001b[43mkwargs\u001b[49m\u001b[43m)\u001b[49m\n",
      "File \u001b[0;32m~/opt/anaconda3/envs/ureca_env/lib/python3.10/site-packages/sklearn/ensemble/_forest.py:188\u001b[0m, in \u001b[0;36m_parallel_build_trees\u001b[0;34m(tree, bootstrap, X, y, sample_weight, tree_idx, n_trees, verbose, class_weight, n_samples_bootstrap)\u001b[0m\n\u001b[1;32m    185\u001b[0m     \u001b[38;5;28;01melif\u001b[39;00m class_weight \u001b[38;5;241m==\u001b[39m \u001b[38;5;124m\"\u001b[39m\u001b[38;5;124mbalanced_subsample\u001b[39m\u001b[38;5;124m\"\u001b[39m:\n\u001b[1;32m    186\u001b[0m         curr_sample_weight \u001b[38;5;241m*\u001b[39m\u001b[38;5;241m=\u001b[39m compute_sample_weight(\u001b[38;5;124m\"\u001b[39m\u001b[38;5;124mbalanced\u001b[39m\u001b[38;5;124m\"\u001b[39m, y, indices\u001b[38;5;241m=\u001b[39mindices)\n\u001b[0;32m--> 188\u001b[0m     \u001b[43mtree\u001b[49m\u001b[38;5;241;43m.\u001b[39;49m\u001b[43mfit\u001b[49m\u001b[43m(\u001b[49m\u001b[43mX\u001b[49m\u001b[43m,\u001b[49m\u001b[43m \u001b[49m\u001b[43my\u001b[49m\u001b[43m,\u001b[49m\u001b[43m \u001b[49m\u001b[43msample_weight\u001b[49m\u001b[38;5;241;43m=\u001b[39;49m\u001b[43mcurr_sample_weight\u001b[49m\u001b[43m,\u001b[49m\u001b[43m \u001b[49m\u001b[43mcheck_input\u001b[49m\u001b[38;5;241;43m=\u001b[39;49m\u001b[38;5;28;43;01mFalse\u001b[39;49;00m\u001b[43m)\u001b[49m\n\u001b[1;32m    189\u001b[0m \u001b[38;5;28;01melse\u001b[39;00m:\n\u001b[1;32m    190\u001b[0m     tree\u001b[38;5;241m.\u001b[39mfit(X, y, sample_weight\u001b[38;5;241m=\u001b[39msample_weight, check_input\u001b[38;5;241m=\u001b[39m\u001b[38;5;28;01mFalse\u001b[39;00m)\n",
      "File \u001b[0;32m~/opt/anaconda3/envs/ureca_env/lib/python3.10/site-packages/sklearn/base.py:1152\u001b[0m, in \u001b[0;36m_fit_context.<locals>.decorator.<locals>.wrapper\u001b[0;34m(estimator, *args, **kwargs)\u001b[0m\n\u001b[1;32m   1145\u001b[0m     estimator\u001b[38;5;241m.\u001b[39m_validate_params()\n\u001b[1;32m   1147\u001b[0m \u001b[38;5;28;01mwith\u001b[39;00m config_context(\n\u001b[1;32m   1148\u001b[0m     skip_parameter_validation\u001b[38;5;241m=\u001b[39m(\n\u001b[1;32m   1149\u001b[0m         prefer_skip_nested_validation \u001b[38;5;129;01mor\u001b[39;00m global_skip_validation\n\u001b[1;32m   1150\u001b[0m     )\n\u001b[1;32m   1151\u001b[0m ):\n\u001b[0;32m-> 1152\u001b[0m     \u001b[38;5;28;01mreturn\u001b[39;00m \u001b[43mfit_method\u001b[49m\u001b[43m(\u001b[49m\u001b[43mestimator\u001b[49m\u001b[43m,\u001b[49m\u001b[43m \u001b[49m\u001b[38;5;241;43m*\u001b[39;49m\u001b[43margs\u001b[49m\u001b[43m,\u001b[49m\u001b[43m \u001b[49m\u001b[38;5;241;43m*\u001b[39;49m\u001b[38;5;241;43m*\u001b[39;49m\u001b[43mkwargs\u001b[49m\u001b[43m)\u001b[49m\n",
      "File \u001b[0;32m~/opt/anaconda3/envs/ureca_env/lib/python3.10/site-packages/sklearn/tree/_classes.py:1320\u001b[0m, in \u001b[0;36mDecisionTreeRegressor.fit\u001b[0;34m(self, X, y, sample_weight, check_input)\u001b[0m\n\u001b[1;32m   1290\u001b[0m \u001b[38;5;129m@_fit_context\u001b[39m(prefer_skip_nested_validation\u001b[38;5;241m=\u001b[39m\u001b[38;5;28;01mTrue\u001b[39;00m)\n\u001b[1;32m   1291\u001b[0m \u001b[38;5;28;01mdef\u001b[39;00m \u001b[38;5;21mfit\u001b[39m(\u001b[38;5;28mself\u001b[39m, X, y, sample_weight\u001b[38;5;241m=\u001b[39m\u001b[38;5;28;01mNone\u001b[39;00m, check_input\u001b[38;5;241m=\u001b[39m\u001b[38;5;28;01mTrue\u001b[39;00m):\n\u001b[1;32m   1292\u001b[0m \u001b[38;5;250m    \u001b[39m\u001b[38;5;124;03m\"\"\"Build a decision tree regressor from the training set (X, y).\u001b[39;00m\n\u001b[1;32m   1293\u001b[0m \n\u001b[1;32m   1294\u001b[0m \u001b[38;5;124;03m    Parameters\u001b[39;00m\n\u001b[0;32m   (...)\u001b[0m\n\u001b[1;32m   1317\u001b[0m \u001b[38;5;124;03m        Fitted estimator.\u001b[39;00m\n\u001b[1;32m   1318\u001b[0m \u001b[38;5;124;03m    \"\"\"\u001b[39;00m\n\u001b[0;32m-> 1320\u001b[0m     \u001b[38;5;28;43msuper\u001b[39;49m\u001b[43m(\u001b[49m\u001b[43m)\u001b[49m\u001b[38;5;241;43m.\u001b[39;49m\u001b[43m_fit\u001b[49m\u001b[43m(\u001b[49m\n\u001b[1;32m   1321\u001b[0m \u001b[43m        \u001b[49m\u001b[43mX\u001b[49m\u001b[43m,\u001b[49m\n\u001b[1;32m   1322\u001b[0m \u001b[43m        \u001b[49m\u001b[43my\u001b[49m\u001b[43m,\u001b[49m\n\u001b[1;32m   1323\u001b[0m \u001b[43m        \u001b[49m\u001b[43msample_weight\u001b[49m\u001b[38;5;241;43m=\u001b[39;49m\u001b[43msample_weight\u001b[49m\u001b[43m,\u001b[49m\n\u001b[1;32m   1324\u001b[0m \u001b[43m        \u001b[49m\u001b[43mcheck_input\u001b[49m\u001b[38;5;241;43m=\u001b[39;49m\u001b[43mcheck_input\u001b[49m\u001b[43m,\u001b[49m\n\u001b[1;32m   1325\u001b[0m \u001b[43m    \u001b[49m\u001b[43m)\u001b[49m\n\u001b[1;32m   1326\u001b[0m     \u001b[38;5;28;01mreturn\u001b[39;00m \u001b[38;5;28mself\u001b[39m\n",
      "File \u001b[0;32m~/opt/anaconda3/envs/ureca_env/lib/python3.10/site-packages/sklearn/tree/_classes.py:443\u001b[0m, in \u001b[0;36mBaseDecisionTree._fit\u001b[0;34m(self, X, y, sample_weight, check_input, missing_values_in_feature_mask)\u001b[0m\n\u001b[1;32m    432\u001b[0m \u001b[38;5;28;01melse\u001b[39;00m:\n\u001b[1;32m    433\u001b[0m     builder \u001b[38;5;241m=\u001b[39m BestFirstTreeBuilder(\n\u001b[1;32m    434\u001b[0m         splitter,\n\u001b[1;32m    435\u001b[0m         min_samples_split,\n\u001b[0;32m   (...)\u001b[0m\n\u001b[1;32m    440\u001b[0m         \u001b[38;5;28mself\u001b[39m\u001b[38;5;241m.\u001b[39mmin_impurity_decrease,\n\u001b[1;32m    441\u001b[0m     )\n\u001b[0;32m--> 443\u001b[0m \u001b[43mbuilder\u001b[49m\u001b[38;5;241;43m.\u001b[39;49m\u001b[43mbuild\u001b[49m\u001b[43m(\u001b[49m\u001b[38;5;28;43mself\u001b[39;49m\u001b[38;5;241;43m.\u001b[39;49m\u001b[43mtree_\u001b[49m\u001b[43m,\u001b[49m\u001b[43m \u001b[49m\u001b[43mX\u001b[49m\u001b[43m,\u001b[49m\u001b[43m \u001b[49m\u001b[43my\u001b[49m\u001b[43m,\u001b[49m\u001b[43m \u001b[49m\u001b[43msample_weight\u001b[49m\u001b[43m,\u001b[49m\u001b[43m \u001b[49m\u001b[43mmissing_values_in_feature_mask\u001b[49m\u001b[43m)\u001b[49m\n\u001b[1;32m    445\u001b[0m \u001b[38;5;28;01mif\u001b[39;00m \u001b[38;5;28mself\u001b[39m\u001b[38;5;241m.\u001b[39mn_outputs_ \u001b[38;5;241m==\u001b[39m \u001b[38;5;241m1\u001b[39m \u001b[38;5;129;01mand\u001b[39;00m is_classifier(\u001b[38;5;28mself\u001b[39m):\n\u001b[1;32m    446\u001b[0m     \u001b[38;5;28mself\u001b[39m\u001b[38;5;241m.\u001b[39mn_classes_ \u001b[38;5;241m=\u001b[39m \u001b[38;5;28mself\u001b[39m\u001b[38;5;241m.\u001b[39mn_classes_[\u001b[38;5;241m0\u001b[39m]\n",
      "\u001b[0;31mKeyboardInterrupt\u001b[0m: "
     ]
    }
   ],
   "source": [
    "best_params = {\n",
    "    'n_estimators': [50, 100, 150, 200, 250, 300, 350, 400, 450, 500, 600, 650, 700, 750, 800],  \n",
    "    'max_features': [0.1, float(1/3), 2*float(1/3), 1] \n",
    "}\n",
    "\n",
    "oob_errors = []\n",
    "for n_estimators in best_params['n_estimators']:\n",
    "    rf = RandomForestRegressor(\n",
    "        n_estimators=n_estimators,\n",
    "        max_features = float(1/3),\n",
    "        oob_score=True,\n",
    "        random_state=42)\n",
    "    rf.fit(X_train_flat, y_train)\n",
    "    oob_error = 1 - rf.oob_score_\n",
    "    oob_errors.append(oob_error)\n",
    "    print(f'{n_estimators} trees: OOB error = {oob_error}')\n",
    "\n",
    "optimal_n_estimators = best_params['n_estimators'][oob_errors.index(min(oob_errors))]"
   ]
  },
  {
   "cell_type": "code",
   "execution_count": null,
   "metadata": {},
   "outputs": [
    {
     "data": {
      "image/png": "[encoded data removed]",
      "text/plain": [
       "<Figure size 1000x600 with 1 Axes>"
      ]
     },
     "metadata": {},
     "output_type": "display_data"
    }
   ],
   "source": [
    "plt.figure(figsize=(10, 6))\n",
    "plt.plot(best_params['n_estimators'], oob_errors, '-o', label='OOB Error Rate')\n",
    "plt.title('OOB Error Rate vs. Number of Estimators')\n",
    "plt.xlabel('Number of Estimators')\n",
    "plt.ylabel('OOB Error Rate')\n",
    "plt.grid(True)\n",
    "plt.legend()\n",
    "plt.show()"
   ]
  },
  {
   "cell_type": "markdown",
   "metadata": {},
   "source": [
    "optimal_feature = None\n",
    "min_val_error = float('inf')\n",
    "for max_f in best_params['max_features']:\n",
    "    rf = RandomForestRegressor(\n",
    "        n_estimators=optimal_n_estimators,\n",
    "        max_features = max_f,\n",
    "        random_state=42,\n",
    "        n_jobs=-1\n",
    "    )\n",
    "    rf.fit(X_train_flat, y_train)\n",
    "    val_pred = rf.predict(X_val_flat)\n",
    "    val_error = mean_squared_error(y_val, val_pred)\n",
    "    if val_error < min_val_error:\n",
    "        min_val_error = val_error\n",
    "        optimal_feature = max_f\n",
    "    print(f'Max max_features = {max_f}: Validation MSE = {val_error}')\n",
    "\n",
    "print(f'Optimal  max_features: {optimal_feature}')"
   ]
  },
  {
   "cell_type": "code",
   "execution_count": 182,
   "metadata": {},
   "outputs": [
    {
     "data": {
      "text/html": [
       "<style>#sk-container-id-13 {color: black;}#sk-container-id-13 pre{padding: 0;}#sk-container-id-13 div.sk-toggleable {background-color: white;}#sk-container-id-13 label.sk-toggleable__label {cursor: pointer;display: block;width: 100%;margin-bottom: 0;padding: 0.3em;box-sizing: border-box;text-align: center;}#sk-container-id-13 label.sk-toggleable__label-arrow:before {content: \"▸\";float: left;margin-right: 0.25em;color: #696969;}#sk-container-id-13 label.sk-toggleable__label-arrow:hover:before {color: black;}#sk-container-id-13 div.sk-estimator:hover label.sk-toggleable__label-arrow:before {color: black;}#sk-container-id-13 div.sk-toggleable__content {max-height: 0;max-width: 0;overflow: hidden;text-align: left;background-color: #f0f8ff;}#sk-container-id-13 div.sk-toggleable__content pre {margin: 0.2em;color: black;border-radius: 0.25em;background-color: #f0f8ff;}#sk-container-id-13 input.sk-toggleable__control:checked~div.sk-toggleable__content {max-height: 200px;max-width: 100%;overflow: auto;}#sk-container-id-13 input.sk-toggleable__control:checked~label.sk-toggleable__label-arrow:before {content: \"▾\";}#sk-container-id-13 div.sk-estimator input.sk-toggleable__control:checked~label.sk-toggleable__label {background-color: #d4ebff;}#sk-container-id-13 div.sk-label input.sk-toggleable__control:checked~label.sk-toggleable__label {background-color: #d4ebff;}#sk-container-id-13 input.sk-hidden--visually {border: 0;clip: rect(1px 1px 1px 1px);clip: rect(1px, 1px, 1px, 1px);height: 1px;margin: -1px;overflow: hidden;padding: 0;position: absolute;width: 1px;}#sk-container-id-13 div.sk-estimator {font-family: monospace;background-color: #f0f8ff;border: 1px dotted black;border-radius: 0.25em;box-sizing: border-box;margin-bottom: 0.5em;}#sk-container-id-13 div.sk-estimator:hover {background-color: #d4ebff;}#sk-container-id-13 div.sk-parallel-item::after {content: \"\";width: 100%;border-bottom: 1px solid gray;flex-grow: 1;}#sk-container-id-13 div.sk-label:hover label.sk-toggleable__label {background-color: #d4ebff;}#sk-container-id-13 div.sk-serial::before {content: \"\";position: absolute;border-left: 1px solid gray;box-sizing: border-box;top: 0;bottom: 0;left: 50%;z-index: 0;}#sk-container-id-13 div.sk-serial {display: flex;flex-direction: column;align-items: center;background-color: white;padding-right: 0.2em;padding-left: 0.2em;position: relative;}#sk-container-id-13 div.sk-item {position: relative;z-index: 1;}#sk-container-id-13 div.sk-parallel {display: flex;align-items: stretch;justify-content: center;background-color: white;position: relative;}#sk-container-id-13 div.sk-item::before, #sk-container-id-13 div.sk-parallel-item::before {content: \"\";position: absolute;border-left: 1px solid gray;box-sizing: border-box;top: 0;bottom: 0;left: 50%;z-index: -1;}#sk-container-id-13 div.sk-parallel-item {display: flex;flex-direction: column;z-index: 1;position: relative;background-color: white;}#sk-container-id-13 div.sk-parallel-item:first-child::after {align-self: flex-end;width: 50%;}#sk-container-id-13 div.sk-parallel-item:last-child::after {align-self: flex-start;width: 50%;}#sk-container-id-13 div.sk-parallel-item:only-child::after {width: 0;}#sk-container-id-13 div.sk-dashed-wrapped {border: 1px dashed gray;margin: 0 0.4em 0.5em 0.4em;box-sizing: border-box;padding-bottom: 0.4em;background-color: white;}#sk-container-id-13 div.sk-label label {font-family: monospace;font-weight: bold;display: inline-block;line-height: 1.2em;}#sk-container-id-13 div.sk-label-container {text-align: center;}#sk-container-id-13 div.sk-container {/* jupyter's `normalize.less` sets `[hidden] { display: none; }` but bootstrap.min.css set `[hidden] { display: none !important; }` so we also need the `!important` here to be able to override the default hidden behavior on the sphinx rendered scikit-learn.org. See: https://github.com/scikit-learn/scikit-learn/issues/21755 */display: inline-block !important;position: relative;}#sk-container-id-13 div.sk-text-repr-fallback {display: none;}</style><div id=\"sk-container-id-13\" class=\"sk-top-container\"><div class=\"sk-text-repr-fallback\"><pre>RandomForestRegressor(max_features=0.33333, n_estimators=500, n_jobs=-1,\n",
       "                      random_state=42)</pre><b>In a Jupyter environment, please rerun this cell to show the HTML representation or trust the notebook. <br />On GitHub, the HTML representation is unable to render, please try loading this page with nbviewer.org.</b></div><div class=\"sk-container\" hidden><div class=\"sk-item\"><div class=\"sk-estimator sk-toggleable\"><input class=\"sk-toggleable__control sk-hidden--visually\" id=\"sk-estimator-id-13\" type=\"checkbox\" checked><label for=\"sk-estimator-id-13\" class=\"sk-toggleable__label sk-toggleable__label-arrow\">RandomForestRegressor</label><div class=\"sk-toggleable__content\"><pre>RandomForestRegressor(max_features=0.33333, n_estimators=500, n_jobs=-1,\n",
       "                      random_state=42)</pre></div></div></div></div></div>"
      ],
      "text/plain": [
       "RandomForestRegressor(max_features=0.33333, n_estimators=500, n_jobs=-1,\n",
       "                      random_state=42)"
      ]
     },
     "execution_count": 182,
     "metadata": {},
     "output_type": "execute_result"
    }
   ],
   "source": [
    "rfmodel = RandomForestRegressor(\n",
    "        n_estimators=500,\n",
    "        max_features=0.33333,\n",
    "        random_state=42,\n",
    "        n_jobs=-1\n",
    "    )\n",
    "rfmodel.fit(X_train_flat, y_train)"
   ]
  },
  {
   "cell_type": "code",
   "execution_count": 183,
   "metadata": {},
   "outputs": [],
   "source": [
    "train_pred = rfmodel.predict(X_train_flat)\n",
    "val_pred = rfmodel.predict(X_val_flat)\n",
    "test_pred = rfmodel.predict(X_test_flat)\n",
    "\n",
    "rf_y_train_pred = reformat_predictions_actual(train_pred, org_X_train)\n",
    "rf_y_val_pred = reformat_predictions_actual(val_pred, org_X_val)\n",
    "rf_y_test_pred = reformat_predictions_actual(test_pred, org_X_test)"
   ]
  },
  {
   "cell_type": "code",
   "execution_count": 184,
   "metadata": {},
   "outputs": [],
   "source": [
    "rf_results = {\"train\": train_pred, \"val\": val_pred, \"test\": test_pred, \"formatted_train\": rf_y_train_pred, \"formatted_val\":rf_y_val_pred, \"formatted_test\": rf_y_test_pred}"
   ]
  },
  {
   "cell_type": "code",
   "execution_count": 185,
   "metadata": {},
   "outputs": [],
   "source": [
    "with open(\"../results/demand_rf_results.pkl\", \"wb\") as outfile: \n",
    "    pickle.dump(rf_results, outfile)"
   ]
  },
  {
   "cell_type": "markdown",
   "metadata": {},
   "source": [
    "### CNN-LSTM"
   ]
  },
  {
   "cell_type": "code",
   "execution_count": 186,
   "metadata": {},
   "outputs": [],
   "source": [
    "import tensorflow as tf\n",
    "from keras.layers import Bidirectional, Dense, Conv1D,MaxPooling1D, Dropout, LSTM, ReLU, Flatten, TimeDistributed, RepeatVector, LeakyReLU\n",
    "from keras.models import Sequential\n",
    "from tensorflow.keras.optimizers import Adam\n",
    "from tensorflow.keras.callbacks import EarlyStopping\n",
    "\n",
    "def build_lstm_model(X, y):\n",
    "    tf.random.set_seed(22)\n",
    "    \n",
    "    cnn_lstm_model = Sequential()\n",
    "    cnn_lstm_model.add((Conv1D(filters=64, kernel_size=3, padding='valid', input_shape= (X.shape[1],X.shape[2]))))\n",
    "    cnn_lstm_model.add(MaxPooling1D(pool_size=2))\n",
    "    cnn_lstm_model.add((Conv1D(filters=32, kernel_size=3, padding='valid')))\n",
    "    cnn_lstm_model.add(MaxPooling1D(pool_size=2))\n",
    "    cnn_lstm_model.add((Conv1D(filters=16, kernel_size=3, padding='valid')))\n",
    "    cnn_lstm_model.add(MaxPooling1D(pool_size=2))\n",
    "    cnn_lstm_model.add(Dropout(0.25))\n",
    "\n",
    "    cnn_lstm_model.add(Flatten())\n",
    "\n",
    "    cnn_lstm_model.add(RepeatVector(y.shape[1]))\n",
    "\n",
    "    cnn_lstm_model.add(Bidirectional(LSTM(128, activation='swish', return_sequences=True)))\n",
    "    cnn_lstm_model.add(Dropout(0.2))\n",
    "    cnn_lstm_model.add(Flatten())\n",
    "    cnn_lstm_model.add(RepeatVector(y.shape[1]))\n",
    "    cnn_lstm_model.add(Bidirectional(LSTM(128, activation='swish', return_sequences=True)))\n",
    "    cnn_lstm_model.add(Dropout(0.2))\n",
    "    cnn_lstm_model.add(TimeDistributed(Dense(1)))\n",
    "    cnn_lstm_model.compile(optimizer='adam', loss='mse')\n",
    "    cnn_lstm_model.summary()\n",
    "    return cnn_lstm_model\n",
    "\n",
    "early_stopping = EarlyStopping(monitor='val_loss', patience=5, verbose=1, mode='min', restore_best_weights=True)\n"
   ]
  },
  {
   "cell_type": "code",
   "execution_count": 187,
   "metadata": {},
   "outputs": [
    {
     "name": "stdout",
     "output_type": "stream",
     "text": [
      "WARNING:tensorflow:Layer lstm_8 will not use cuDNN kernels since it doesn't meet the criteria. It will use a generic GPU kernel as fallback when running on GPU.\n",
      "WARNING:tensorflow:Layer lstm_8 will not use cuDNN kernels since it doesn't meet the criteria. It will use a generic GPU kernel as fallback when running on GPU.\n",
      "WARNING:tensorflow:Layer lstm_8 will not use cuDNN kernels since it doesn't meet the criteria. It will use a generic GPU kernel as fallback when running on GPU.\n",
      "WARNING:tensorflow:Layer lstm_9 will not use cuDNN kernels since it doesn't meet the criteria. It will use a generic GPU kernel as fallback when running on GPU.\n",
      "WARNING:tensorflow:Layer lstm_9 will not use cuDNN kernels since it doesn't meet the criteria. It will use a generic GPU kernel as fallback when running on GPU.\n",
      "WARNING:tensorflow:Layer lstm_9 will not use cuDNN kernels since it doesn't meet the criteria. It will use a generic GPU kernel as fallback when running on GPU.\n",
      "Model: \"sequential_4\"\n",
      "_________________________________________________________________\n",
      " Layer (type)                Output Shape              Param #   \n",
      "=================================================================\n",
      " conv1d_12 (Conv1D)          (None, 22, 64)            3904      \n",
      "                                                                 \n",
      " max_pooling1d_12 (MaxPooli  (None, 11, 64)            0         \n",
      " ng1D)                                                           \n",
      "                                                                 \n",
      " conv1d_13 (Conv1D)          (None, 9, 32)             6176      \n",
      "                                                                 \n",
      " max_pooling1d_13 (MaxPooli  (None, 4, 32)             0         \n",
      " ng1D)                                                           \n",
      "                                                                 \n",
      " conv1d_14 (Conv1D)          (None, 2, 16)             1552      \n",
      "                                                                 \n",
      " max_pooling1d_14 (MaxPooli  (None, 1, 16)             0         \n",
      " ng1D)                                                           \n",
      "                                                                 \n",
      " dropout_12 (Dropout)        (None, 1, 16)             0         \n",
      "                                                                 \n",
      " flatten_8 (Flatten)         (None, 16)                0         \n",
      "                                                                 \n",
      " repeat_vector_8 (RepeatVec  (None, 24, 16)            0         \n",
      " tor)                                                            \n",
      "                                                                 \n",
      " bidirectional_8 (Bidirecti  (None, 24, 256)           148480    \n",
      " onal)                                                           \n",
      "                                                                 \n",
      " dropout_13 (Dropout)        (None, 24, 256)           0         \n",
      "                                                                 \n",
      " flatten_9 (Flatten)         (None, 6144)              0         \n",
      "                                                                 \n",
      " repeat_vector_9 (RepeatVec  (None, 24, 6144)          0         \n",
      " tor)                                                            \n",
      "                                                                 \n",
      " bidirectional_9 (Bidirecti  (None, 24, 256)           6423552   \n",
      " onal)                                                           \n",
      "                                                                 \n",
      " dropout_14 (Dropout)        (None, 24, 256)           0         \n",
      "                                                                 \n",
      " time_distributed_4 (TimeDi  (None, 24, 1)             257       \n",
      " stributed)                                                      \n",
      "                                                                 \n",
      "=================================================================\n",
      "Total params: 6583921 (25.12 MB)\n",
      "Trainable params: 6583921 (25.12 MB)\n",
      "Non-trainable params: 0 (0.00 Byte)\n",
      "_________________________________________________________________\n"
     ]
    }
   ],
   "source": [
    "cnn_lstm_model = build_lstm_model(scaled_X_train,scaled_y_train)"
   ]
  },
  {
   "cell_type": "code",
   "execution_count": 188,
   "metadata": {},
   "outputs": [
    {
     "name": "stdout",
     "output_type": "stream",
     "text": [
      "Epoch 1/100\n",
      "166/166 [==============================] - 74s 421ms/step - loss: 0.0064 - val_loss: 0.0057\n",
      "Epoch 2/100\n",
      "166/166 [==============================] - 67s 401ms/step - loss: 0.0036 - val_loss: 0.0057\n",
      "Epoch 3/100\n",
      "166/166 [==============================] - 61s 366ms/step - loss: 0.0036 - val_loss: 0.0057\n",
      "Epoch 4/100\n",
      "166/166 [==============================] - 60s 361ms/step - loss: 0.0036 - val_loss: 0.0056\n",
      "Epoch 5/100\n",
      "166/166 [==============================] - 59s 353ms/step - loss: 0.0035 - val_loss: 0.0054\n",
      "Epoch 6/100\n",
      "166/166 [==============================] - 59s 356ms/step - loss: 0.0035 - val_loss: 0.0051\n",
      "Epoch 7/100\n",
      "166/166 [==============================] - 59s 353ms/step - loss: 0.0034 - val_loss: 0.0048\n",
      "Epoch 8/100\n",
      "166/166 [==============================] - 59s 355ms/step - loss: 0.0033 - val_loss: 0.0041\n",
      "Epoch 9/100\n",
      "166/166 [==============================] - 60s 360ms/step - loss: 0.0031 - val_loss: 0.0033\n",
      "Epoch 10/100\n",
      "166/166 [==============================] - 53s 322ms/step - loss: 0.0027 - val_loss: 0.0027\n",
      "Epoch 11/100\n",
      "166/166 [==============================] - 54s 324ms/step - loss: 0.0023 - val_loss: 0.0020\n",
      "Epoch 12/100\n",
      "166/166 [==============================] - 50s 303ms/step - loss: 0.0020 - val_loss: 0.0019\n",
      "Epoch 13/100\n",
      "166/166 [==============================] - 51s 309ms/step - loss: 0.0019 - val_loss: 0.0017\n",
      "Epoch 14/100\n",
      "166/166 [==============================] - 50s 304ms/step - loss: 0.0018 - val_loss: 0.0016\n",
      "Epoch 15/100\n",
      "166/166 [==============================] - 50s 304ms/step - loss: 0.0017 - val_loss: 0.0014\n",
      "Epoch 16/100\n",
      "166/166 [==============================] - 50s 303ms/step - loss: 0.0016 - val_loss: 0.0015\n",
      "Epoch 17/100\n",
      "166/166 [==============================] - 50s 303ms/step - loss: 0.0016 - val_loss: 0.0014\n",
      "Epoch 18/100\n",
      "166/166 [==============================] - 50s 303ms/step - loss: 0.0015 - val_loss: 0.0014\n",
      "Epoch 19/100\n",
      "166/166 [==============================] - 50s 303ms/step - loss: 0.0015 - val_loss: 0.0014\n",
      "Epoch 20/100\n",
      "166/166 [==============================] - 50s 302ms/step - loss: 0.0015 - val_loss: 0.0013\n",
      "Epoch 21/100\n",
      "166/166 [==============================] - 51s 305ms/step - loss: 0.0015 - val_loss: 0.0013\n",
      "Epoch 22/100\n",
      "166/166 [==============================] - 50s 301ms/step - loss: 0.0014 - val_loss: 0.0012\n",
      "Epoch 23/100\n",
      "166/166 [==============================] - 50s 302ms/step - loss: 0.0014 - val_loss: 0.0014\n",
      "Epoch 24/100\n",
      "166/166 [==============================] - 50s 300ms/step - loss: 0.0014 - val_loss: 0.0011\n",
      "Epoch 25/100\n",
      "166/166 [==============================] - 50s 300ms/step - loss: 0.0013 - val_loss: 0.0011\n",
      "Epoch 26/100\n",
      "166/166 [==============================] - 50s 300ms/step - loss: 0.0013 - val_loss: 0.0011\n",
      "Epoch 27/100\n",
      "166/166 [==============================] - 50s 301ms/step - loss: 0.0013 - val_loss: 0.0011\n",
      "Epoch 28/100\n",
      "166/166 [==============================] - 50s 302ms/step - loss: 0.0013 - val_loss: 0.0011\n",
      "Epoch 29/100\n",
      "166/166 [==============================] - 50s 300ms/step - loss: 0.0013 - val_loss: 0.0011\n",
      "Epoch 30/100\n",
      "166/166 [==============================] - 50s 302ms/step - loss: 0.0013 - val_loss: 0.0011\n",
      "Epoch 31/100\n",
      "166/166 [==============================] - 52s 313ms/step - loss: 0.0013 - val_loss: 0.0011\n",
      "Epoch 32/100\n",
      "166/166 [==============================] - 56s 339ms/step - loss: 0.0012 - val_loss: 0.0011\n",
      "Epoch 33/100\n",
      "166/166 [==============================] - 51s 310ms/step - loss: 0.0012 - val_loss: 0.0011\n",
      "Epoch 34/100\n",
      "166/166 [==============================] - 50s 300ms/step - loss: 0.0012 - val_loss: 0.0011\n",
      "Epoch 35/100\n",
      "166/166 [==============================] - 50s 303ms/step - loss: 0.0012 - val_loss: 0.0010\n",
      "Epoch 36/100\n",
      "166/166 [==============================] - 51s 307ms/step - loss: 0.0012 - val_loss: 0.0011\n",
      "Epoch 37/100\n",
      "166/166 [==============================] - 51s 307ms/step - loss: 0.0012 - val_loss: 0.0011\n",
      "Epoch 38/100\n",
      "166/166 [==============================] - 50s 302ms/step - loss: 0.0012 - val_loss: 0.0010\n",
      "Epoch 39/100\n",
      "166/166 [==============================] - 50s 304ms/step - loss: 0.0012 - val_loss: 0.0011\n",
      "Epoch 40/100\n",
      "166/166 [==============================] - 51s 305ms/step - loss: 0.0012 - val_loss: 9.7000e-04\n",
      "Epoch 41/100\n",
      "166/166 [==============================] - 50s 302ms/step - loss: 0.0011 - val_loss: 8.9468e-04\n",
      "Epoch 42/100\n",
      "166/166 [==============================] - 51s 305ms/step - loss: 0.0011 - val_loss: 9.7329e-04\n",
      "Epoch 43/100\n",
      "166/166 [==============================] - 50s 304ms/step - loss: 0.0011 - val_loss: 0.0012\n",
      "Epoch 44/100\n",
      "166/166 [==============================] - 50s 304ms/step - loss: 0.0011 - val_loss: 0.0011\n",
      "Epoch 45/100\n",
      "166/166 [==============================] - 51s 304ms/step - loss: 0.0011 - val_loss: 0.0011\n",
      "Epoch 46/100\n",
      "166/166 [==============================] - ETA: 0s - loss: 0.0011Restoring model weights from the end of the best epoch: 41.\n",
      "166/166 [==============================] - 51s 306ms/step - loss: 0.0011 - val_loss: 9.6476e-04\n",
      "Epoch 46: early stopping\n"
     ]
    }
   ],
   "source": [
    "with tf.device('cpu:0'): #my mac gpu sucks and trains really slow for some reason\n",
    "    training_history = cnn_lstm_model.fit(scaled_X_train,scaled_y_train, epochs=100, batch_size=64, validation_data=(scaled_X_val, scaled_y_val), verbose=1, callbacks=[early_stopping])"
   ]
  },
  {
   "cell_type": "code",
   "execution_count": 189,
   "metadata": {},
   "outputs": [
    {
     "data": {
      "text/plain": [
       "<matplotlib.legend.Legend at 0x60d73d3f0>"
      ]
     },
     "execution_count": 189,
     "metadata": {},
     "output_type": "execute_result"
    },
    {
     "data": {
      "image/png": "[encoded data removed]",
      "text/plain": [
       "<Figure size 2000x500 with 1 Axes>"
      ]
     },
     "metadata": {},
     "output_type": "display_data"
    }
   ],
   "source": [
    "plt.figure(figsize=(20,5))\n",
    "plt.plot(training_history.history['loss'], label='Training loss')\n",
    "plt.plot(training_history.history['val_loss'], label='Validation loss')\n",
    "plt.title('Training loss Vs. Validation loss')\n",
    "plt.legend()"
   ]
  },
  {
   "cell_type": "code",
   "execution_count": 190,
   "metadata": {},
   "outputs": [
    {
     "name": "stdout",
     "output_type": "stream",
     "text": [
      "332/332 [==============================] - 83s 240ms/step\n",
      "70/70 [==============================] - 19s 274ms/step\n",
      "70/70 [==============================] - 19s 273ms/step\n"
     ]
    }
   ],
   "source": [
    "train_pred = inverse_scaler.inverse_transform(cnn_lstm_model.predict(scaled_X_train).reshape(y_train.shape))\n",
    "val_pred = inverse_scaler.inverse_transform(cnn_lstm_model.predict(scaled_X_val).reshape(y_val.shape))\n",
    "test_pred = inverse_scaler.inverse_transform(cnn_lstm_model.predict(scaled_X_test).reshape(y_test.shape))\n",
    "nn_y_train_pred = reformat_predictions_actual(train_pred, org_X_train)\n",
    "nn_y_val_pred = reformat_predictions_actual(val_pred, org_X_val)\n",
    "nn_y_test_pred = reformat_predictions_actual(test_pred, org_X_test)"
   ]
  },
  {
   "cell_type": "code",
   "execution_count": 191,
   "metadata": {},
   "outputs": [],
   "source": [
    "nn_results = {\"train\": train_pred, \"val\": val_pred, \"test\": test_pred, \"formatted_train\": nn_y_train_pred, \"formatted_val\":nn_y_val_pred, \"formatted_test\": nn_y_test_pred}"
   ]
  },
  {
   "cell_type": "code",
   "execution_count": 192,
   "metadata": {},
   "outputs": [],
   "source": [
    "with open(\"../results/demand_nn_results.pkl\", \"wb\") as outfile: \n",
    "    pickle.dump(nn_results, outfile)"
   ]
  },
  {
   "cell_type": "markdown",
   "metadata": {},
   "source": [
    "## SOLAR FORECAST"
   ]
  },
  {
   "cell_type": "code",
   "execution_count": 193,
   "metadata": {},
   "outputs": [
    {
     "name": "stdout",
     "output_type": "stream",
     "text": [
      "X shape: (10614, 24, 20), y shape: (10614, 24)\n",
      "X shape: (2237, 24, 20), y shape: (2237, 24)\n",
      "X shape: (2239, 24, 20), y shape: (2239, 24)\n",
      "X shape: (10614, 24, 20), y shape: (10614, 24)\n",
      "X shape: (2237, 24, 20), y shape: (2237, 24)\n",
      "X shape: (2239, 24, 20), y shape: (2239, 24)\n",
      "X shape: (10614, 24), y shape: (10614, 24)\n",
      "X shape: (2237, 24), y shape: (2237, 24)\n",
      "X shape: (2239, 24), y shape: (2239, 24)\n",
      "X shape: (10614, 24), y shape: (10614, 24)\n",
      "X shape: (2237, 24), y shape: (2237, 24)\n",
      "X shape: (2239, 24), y shape: (2239, 24)\n"
     ]
    }
   ],
   "source": [
    "n_past = 24\n",
    "n_future = 24\n",
    "target_column_name = 'diff_supply'\n",
    "# train_df, val_df, test_df = df[1:int(len(df)*0.8)], df[int(len(df)*0.8):int(len(df)*0.8)+int(len(df)*0.1)], df[int(len(df)*0.8)+int(len(df)*0.1):] \n",
    "train_df, val_df, test_df = df[1:int(len(df)*0.7)], df[int(len(df)*0.7):int(len(df)*0.7)+int(len(df)*0.15)], df[int(len(df)*0.7)+int(len(df)*0.15):] \n",
    "feature_column_names = supply_features\n",
    "# feature_column_names = ['target', 'eic_count','forecasted_temperature','forecasted_direct_solar_radiation','forecasted_surface_solar_radiation_downwards','hour','month','day']\n",
    "\n",
    "dataframe_scaler = MinMaxScaler()\n",
    "dataframe_scaler = dataframe_scaler.fit(train_df)\n",
    "inverse_scaler = MinMaxScaler()\n",
    "inverse_scaler = inverse_scaler.fit(train_df[[target_column_name]])\n",
    "scaled_train_df = pd.DataFrame(dataframe_scaler.transform(train_df), columns = train_df.columns)\n",
    "scaled_val_df = pd.DataFrame(dataframe_scaler.transform(val_df), columns = val_df.columns)\n",
    "scaled_test_df = pd.DataFrame(dataframe_scaler.transform(test_df), columns = test_df.columns)\n",
    "\n",
    "scaled_X_train, scaled_y_train = split_series(scaled_train_df,n_past, n_future, target_column_name, feature_column_names)\n",
    "scaled_X_val, scaled_y_val = split_series(scaled_val_df,n_past, n_future, target_column_name, feature_column_names)\n",
    "scaled_X_test, scaled_y_test = split_series(scaled_test_df,n_past, n_future, target_column_name, feature_column_names)\n",
    "\n",
    "X_train, y_train = split_series(train_df,n_past, n_future, target_column_name, feature_column_names)\n",
    "X_val, y_val = split_series(val_df,n_past, n_future, target_column_name, feature_column_names)\n",
    "X_test, y_test = split_series(test_df,n_past, n_future, target_column_name, feature_column_names)\n",
    "\n",
    "ARIMA_X_train, ARIMA_y_train = split_series(train_df,n_past, n_future, target_column_name, target_column_name)\n",
    "ARIMA_X_val, ARIMA_y_val = split_series(val_df,n_past, n_future, target_column_name, target_column_name)\n",
    "ARIMA_X_test, ARIMA_y_test = split_series(test_df,n_past, n_future, target_column_name, target_column_name)\n",
    "\n",
    "org_X_train, org_y_train = split_series(train_df,n_past, n_future, 'supply', 'supply')\n",
    "org_X_val, org_y_val = split_series(val_df,n_past, n_future, 'supply', 'supply')\n",
    "org_X_test, org_y_test = split_series(test_df,n_past, n_future, 'supply', 'supply')"
   ]
  },
  {
   "cell_type": "code",
   "execution_count": 194,
   "metadata": {},
   "outputs": [],
   "source": [
    "org_results = {\"train\": org_X_train, \"val\": org_X_val, \"test\": org_X_test}"
   ]
  },
  {
   "cell_type": "code",
   "execution_count": 195,
   "metadata": {},
   "outputs": [],
   "source": [
    "with open(\"../results/supply_org_results.pkl\", \"wb\") as outfile: \n",
    "    pickle.dump(org_results, outfile)"
   ]
  },
  {
   "cell_type": "markdown",
   "metadata": {},
   "source": [
    "### RANDOM FOREST"
   ]
  },
  {
   "cell_type": "code",
   "execution_count": 196,
   "metadata": {},
   "outputs": [],
   "source": [
    "from sklearn.ensemble import RandomForestRegressor\n",
    "\n",
    "X_train_flat = X_train.reshape(X_train.shape[0], -1)  \n",
    "X_val_flat = X_val.reshape(X_val.shape[0], -1)\n",
    "X_test_flat = X_test.reshape(X_test.shape[0], -1)"
   ]
  },
  {
   "cell_type": "markdown",
   "metadata": {},
   "source": [
    "best_params = {\n",
    "    'n_estimators': [50, 100, 150, 200, 250, 300, 350, 400, 450, 500, 600, 650, 700, 750, 800],  \n",
    "    'max_features': [0.1, float(1/3), 2*float(1/3), 1] \n",
    "}\n",
    "\n",
    "oob_errors = []\n",
    "for n_estimators in best_params['n_estimators']:\n",
    "    rf = RandomForestRegressor(\n",
    "        n_estimators=n_estimators,\n",
    "        max_features = float(1/3),\n",
    "        oob_score=True,\n",
    "        random_state=42)\n",
    "    rf.fit(X_train_flat, y_train)\n",
    "    oob_error = 1 - rf.oob_score_\n",
    "    oob_errors.append(oob_error)\n",
    "    print(f'{n_estimators} trees: OOB error = {oob_error}')\n",
    "\n",
    "optimal_n_estimators = best_params['n_estimators'][oob_errors.index(min(oob_errors))]"
   ]
  },
  {
   "cell_type": "markdown",
   "metadata": {},
   "source": [
    "plt.figure(figsize=(10, 6))\n",
    "plt.plot(best_params['n_estimators'], oob_errors, '-o', label='OOB Error Rate')\n",
    "plt.title('OOB Error Rate vs. Number of Estimators')\n",
    "plt.xlabel('Number of Estimators')\n",
    "plt.ylabel('OOB Error Rate')\n",
    "plt.grid(True)\n",
    "plt.legend()\n",
    "plt.show()"
   ]
  },
  {
   "cell_type": "markdown",
   "metadata": {},
   "source": [
    "optimal_n_estimators = 500"
   ]
  },
  {
   "cell_type": "markdown",
   "metadata": {},
   "source": [
    "optimal_feature = None\n",
    "min_val_error = float('inf')\n",
    "for max_f in best_params['max_features']:\n",
    "    rf = RandomForestRegressor(\n",
    "        n_estimators=optimal_n_estimators,\n",
    "        max_features = max_f,\n",
    "        random_state=42,\n",
    "        n_jobs=-1\n",
    "    )\n",
    "    rf.fit(X_train_flat, y_train)\n",
    "    val_pred = rf.predict(X_val_flat)\n",
    "    val_error = mean_squared_error(y_val, val_pred)\n",
    "    if val_error < min_val_error:\n",
    "        min_val_error = val_error\n",
    "        optimal_feature = max_f\n",
    "    print(f'Max max_features = {max_f}: Validation MSE = {val_error}')\n",
    "\n",
    "print(f'Optimal  max_features: {optimal_feature}')"
   ]
  },
  {
   "cell_type": "code",
   "execution_count": 197,
   "metadata": {},
   "outputs": [
    {
     "data": {
      "text/html": [
       "<style>#sk-container-id-14 {color: black;}#sk-container-id-14 pre{padding: 0;}#sk-container-id-14 div.sk-toggleable {background-color: white;}#sk-container-id-14 label.sk-toggleable__label {cursor: pointer;display: block;width: 100%;margin-bottom: 0;padding: 0.3em;box-sizing: border-box;text-align: center;}#sk-container-id-14 label.sk-toggleable__label-arrow:before {content: \"▸\";float: left;margin-right: 0.25em;color: #696969;}#sk-container-id-14 label.sk-toggleable__label-arrow:hover:before {color: black;}#sk-container-id-14 div.sk-estimator:hover label.sk-toggleable__label-arrow:before {color: black;}#sk-container-id-14 div.sk-toggleable__content {max-height: 0;max-width: 0;overflow: hidden;text-align: left;background-color: #f0f8ff;}#sk-container-id-14 div.sk-toggleable__content pre {margin: 0.2em;color: black;border-radius: 0.25em;background-color: #f0f8ff;}#sk-container-id-14 input.sk-toggleable__control:checked~div.sk-toggleable__content {max-height: 200px;max-width: 100%;overflow: auto;}#sk-container-id-14 input.sk-toggleable__control:checked~label.sk-toggleable__label-arrow:before {content: \"▾\";}#sk-container-id-14 div.sk-estimator input.sk-toggleable__control:checked~label.sk-toggleable__label {background-color: #d4ebff;}#sk-container-id-14 div.sk-label input.sk-toggleable__control:checked~label.sk-toggleable__label {background-color: #d4ebff;}#sk-container-id-14 input.sk-hidden--visually {border: 0;clip: rect(1px 1px 1px 1px);clip: rect(1px, 1px, 1px, 1px);height: 1px;margin: -1px;overflow: hidden;padding: 0;position: absolute;width: 1px;}#sk-container-id-14 div.sk-estimator {font-family: monospace;background-color: #f0f8ff;border: 1px dotted black;border-radius: 0.25em;box-sizing: border-box;margin-bottom: 0.5em;}#sk-container-id-14 div.sk-estimator:hover {background-color: #d4ebff;}#sk-container-id-14 div.sk-parallel-item::after {content: \"\";width: 100%;border-bottom: 1px solid gray;flex-grow: 1;}#sk-container-id-14 div.sk-label:hover label.sk-toggleable__label {background-color: #d4ebff;}#sk-container-id-14 div.sk-serial::before {content: \"\";position: absolute;border-left: 1px solid gray;box-sizing: border-box;top: 0;bottom: 0;left: 50%;z-index: 0;}#sk-container-id-14 div.sk-serial {display: flex;flex-direction: column;align-items: center;background-color: white;padding-right: 0.2em;padding-left: 0.2em;position: relative;}#sk-container-id-14 div.sk-item {position: relative;z-index: 1;}#sk-container-id-14 div.sk-parallel {display: flex;align-items: stretch;justify-content: center;background-color: white;position: relative;}#sk-container-id-14 div.sk-item::before, #sk-container-id-14 div.sk-parallel-item::before {content: \"\";position: absolute;border-left: 1px solid gray;box-sizing: border-box;top: 0;bottom: 0;left: 50%;z-index: -1;}#sk-container-id-14 div.sk-parallel-item {display: flex;flex-direction: column;z-index: 1;position: relative;background-color: white;}#sk-container-id-14 div.sk-parallel-item:first-child::after {align-self: flex-end;width: 50%;}#sk-container-id-14 div.sk-parallel-item:last-child::after {align-self: flex-start;width: 50%;}#sk-container-id-14 div.sk-parallel-item:only-child::after {width: 0;}#sk-container-id-14 div.sk-dashed-wrapped {border: 1px dashed gray;margin: 0 0.4em 0.5em 0.4em;box-sizing: border-box;padding-bottom: 0.4em;background-color: white;}#sk-container-id-14 div.sk-label label {font-family: monospace;font-weight: bold;display: inline-block;line-height: 1.2em;}#sk-container-id-14 div.sk-label-container {text-align: center;}#sk-container-id-14 div.sk-container {/* jupyter's `normalize.less` sets `[hidden] { display: none; }` but bootstrap.min.css set `[hidden] { display: none !important; }` so we also need the `!important` here to be able to override the default hidden behavior on the sphinx rendered scikit-learn.org. See: https://github.com/scikit-learn/scikit-learn/issues/21755 */display: inline-block !important;position: relative;}#sk-container-id-14 div.sk-text-repr-fallback {display: none;}</style><div id=\"sk-container-id-14\" class=\"sk-top-container\"><div class=\"sk-text-repr-fallback\"><pre>RandomForestRegressor(max_features=0.3333, n_estimators=500, n_jobs=-1,\n",
       "                      random_state=42)</pre><b>In a Jupyter environment, please rerun this cell to show the HTML representation or trust the notebook. <br />On GitHub, the HTML representation is unable to render, please try loading this page with nbviewer.org.</b></div><div class=\"sk-container\" hidden><div class=\"sk-item\"><div class=\"sk-estimator sk-toggleable\"><input class=\"sk-toggleable__control sk-hidden--visually\" id=\"sk-estimator-id-14\" type=\"checkbox\" checked><label for=\"sk-estimator-id-14\" class=\"sk-toggleable__label sk-toggleable__label-arrow\">RandomForestRegressor</label><div class=\"sk-toggleable__content\"><pre>RandomForestRegressor(max_features=0.3333, n_estimators=500, n_jobs=-1,\n",
       "                      random_state=42)</pre></div></div></div></div></div>"
      ],
      "text/plain": [
       "RandomForestRegressor(max_features=0.3333, n_estimators=500, n_jobs=-1,\n",
       "                      random_state=42)"
      ]
     },
     "execution_count": 197,
     "metadata": {},
     "output_type": "execute_result"
    }
   ],
   "source": [
    "rfmodel = RandomForestRegressor(\n",
    "        n_estimators=500,\n",
    "        max_features=0.3333,\n",
    "        random_state=42,\n",
    "        n_jobs=-1\n",
    "    )\n",
    "rfmodel.fit(X_train_flat, y_train)"
   ]
  },
  {
   "cell_type": "code",
   "execution_count": 198,
   "metadata": {},
   "outputs": [],
   "source": [
    "train_pred = rfmodel.predict(X_train_flat)\n",
    "val_pred = rfmodel.predict(X_val_flat)\n",
    "test_pred = rfmodel.predict(X_test_flat)\n",
    "\n",
    "rf_y_train_pred = reformat_predictions_actual(train_pred, org_X_train)\n",
    "rf_y_val_pred = reformat_predictions_actual(val_pred, org_X_val)\n",
    "rf_y_test_pred = reformat_predictions_actual(test_pred, org_X_test)"
   ]
  },
  {
   "cell_type": "code",
   "execution_count": 199,
   "metadata": {},
   "outputs": [],
   "source": [
    "rf_results = {\"train\": train_pred, \"val\": val_pred, \"test\": test_pred, \"formatted_train\": rf_y_train_pred, \"formatted_val\":rf_y_val_pred, \"formatted_test\": rf_y_test_pred}"
   ]
  },
  {
   "cell_type": "code",
   "execution_count": 200,
   "metadata": {},
   "outputs": [],
   "source": [
    "with open(\"../results/supply_rf_results.pkl\", \"wb\") as outfile: \n",
    "    pickle.dump(rf_results, outfile)"
   ]
  },
  {
   "cell_type": "markdown",
   "metadata": {},
   "source": [
    "### CNN-LSTM"
   ]
  },
  {
   "cell_type": "code",
   "execution_count": 201,
   "metadata": {},
   "outputs": [],
   "source": [
    "import tensorflow as tf\n",
    "from keras.layers import Bidirectional, Dense, Conv1D,MaxPooling1D, Dropout, LSTM, ReLU, Flatten, TimeDistributed, RepeatVector, LeakyReLU\n",
    "from keras.models import Sequential\n",
    "from tensorflow.keras.optimizers import Adam\n",
    "from tensorflow.keras.callbacks import EarlyStopping\n",
    "\n",
    "def build_lstm_model(X, y):\n",
    "    tf.random.set_seed(22)\n",
    "    \n",
    "    cnn_lstm_model = Sequential()\n",
    "    cnn_lstm_model.add((Conv1D(filters=64, kernel_size=3, padding='valid', input_shape= (X.shape[1],X.shape[2]))))\n",
    "    cnn_lstm_model.add(MaxPooling1D(pool_size=2))\n",
    "    cnn_lstm_model.add((Conv1D(filters=32, kernel_size=3, padding='valid')))\n",
    "    cnn_lstm_model.add(MaxPooling1D(pool_size=2))\n",
    "    cnn_lstm_model.add((Conv1D(filters=16, kernel_size=3, padding='valid')))\n",
    "    cnn_lstm_model.add(MaxPooling1D(pool_size=2))\n",
    "    cnn_lstm_model.add(Dropout(0.25))\n",
    "\n",
    "    cnn_lstm_model.add(Flatten())\n",
    "\n",
    "    cnn_lstm_model.add(RepeatVector(y.shape[1]))\n",
    "\n",
    "    cnn_lstm_model.add(Bidirectional(LSTM(128, activation='swish', return_sequences=True)))\n",
    "    cnn_lstm_model.add(Dropout(0.2))\n",
    "    cnn_lstm_model.add(Flatten())\n",
    "    cnn_lstm_model.add(RepeatVector(y.shape[1]))\n",
    "    cnn_lstm_model.add(Bidirectional(LSTM(128, activation='swish', return_sequences=True)))\n",
    "    cnn_lstm_model.add(Dropout(0.2))\n",
    "    cnn_lstm_model.add(TimeDistributed(Dense(1)))\n",
    "    cnn_lstm_model.compile(optimizer='adam', loss='mse')\n",
    "    cnn_lstm_model.summary()\n",
    "    return cnn_lstm_model\n",
    "\n",
    "early_stopping = EarlyStopping(monitor='val_loss', patience=5, verbose=1, mode='min', restore_best_weights=True)\n"
   ]
  },
  {
   "cell_type": "code",
   "execution_count": 202,
   "metadata": {},
   "outputs": [
    {
     "name": "stdout",
     "output_type": "stream",
     "text": [
      "WARNING:tensorflow:Layer lstm_10 will not use cuDNN kernels since it doesn't meet the criteria. It will use a generic GPU kernel as fallback when running on GPU.\n",
      "WARNING:tensorflow:Layer lstm_10 will not use cuDNN kernels since it doesn't meet the criteria. It will use a generic GPU kernel as fallback when running on GPU.\n",
      "WARNING:tensorflow:Layer lstm_10 will not use cuDNN kernels since it doesn't meet the criteria. It will use a generic GPU kernel as fallback when running on GPU.\n",
      "WARNING:tensorflow:Layer lstm_11 will not use cuDNN kernels since it doesn't meet the criteria. It will use a generic GPU kernel as fallback when running on GPU.\n",
      "WARNING:tensorflow:Layer lstm_11 will not use cuDNN kernels since it doesn't meet the criteria. It will use a generic GPU kernel as fallback when running on GPU.\n",
      "WARNING:tensorflow:Layer lstm_11 will not use cuDNN kernels since it doesn't meet the criteria. It will use a generic GPU kernel as fallback when running on GPU.\n",
      "Model: \"sequential_5\"\n",
      "_________________________________________________________________\n",
      " Layer (type)                Output Shape              Param #   \n",
      "=================================================================\n",
      " conv1d_15 (Conv1D)          (None, 22, 64)            3904      \n",
      "                                                                 \n",
      " max_pooling1d_15 (MaxPooli  (None, 11, 64)            0         \n",
      " ng1D)                                                           \n",
      "                                                                 \n",
      " conv1d_16 (Conv1D)          (None, 9, 32)             6176      \n",
      "                                                                 \n",
      " max_pooling1d_16 (MaxPooli  (None, 4, 32)             0         \n",
      " ng1D)                                                           \n",
      "                                                                 \n",
      " conv1d_17 (Conv1D)          (None, 2, 16)             1552      \n",
      "                                                                 \n",
      " max_pooling1d_17 (MaxPooli  (None, 1, 16)             0         \n",
      " ng1D)                                                           \n",
      "                                                                 \n",
      " dropout_15 (Dropout)        (None, 1, 16)             0         \n",
      "                                                                 \n",
      " flatten_10 (Flatten)        (None, 16)                0         \n",
      "                                                                 \n",
      " repeat_vector_10 (RepeatVe  (None, 24, 16)            0         \n",
      " ctor)                                                           \n",
      "                                                                 \n",
      " bidirectional_10 (Bidirect  (None, 24, 256)           148480    \n",
      " ional)                                                          \n",
      "                                                                 \n",
      " dropout_16 (Dropout)        (None, 24, 256)           0         \n",
      "                                                                 \n",
      " flatten_11 (Flatten)        (None, 6144)              0         \n",
      "                                                                 \n",
      " repeat_vector_11 (RepeatVe  (None, 24, 6144)          0         \n",
      " ctor)                                                           \n",
      "                                                                 \n",
      " bidirectional_11 (Bidirect  (None, 24, 256)           6423552   \n",
      " ional)                                                          \n",
      "                                                                 \n",
      " dropout_17 (Dropout)        (None, 24, 256)           0         \n",
      "                                                                 \n",
      " time_distributed_5 (TimeDi  (None, 24, 1)             257       \n",
      " stributed)                                                      \n",
      "                                                                 \n",
      "=================================================================\n",
      "Total params: 6583921 (25.12 MB)\n",
      "Trainable params: 6583921 (25.12 MB)\n",
      "Non-trainable params: 0 (0.00 Byte)\n",
      "_________________________________________________________________\n"
     ]
    }
   ],
   "source": [
    "cnn_lstm_model = build_lstm_model(scaled_X_train,scaled_y_train)"
   ]
  },
  {
   "cell_type": "code",
   "execution_count": 203,
   "metadata": {},
   "outputs": [
    {
     "name": "stdout",
     "output_type": "stream",
     "text": [
      "Epoch 1/100\n",
      "166/166 [==============================] - 53s 299ms/step - loss: 0.0195 - val_loss: 8.9124e-04\n",
      "Epoch 2/100\n",
      "166/166 [==============================] - 50s 300ms/step - loss: 0.0109 - val_loss: 0.0011\n",
      "Epoch 3/100\n",
      "166/166 [==============================] - 50s 302ms/step - loss: 0.0068 - val_loss: 8.2587e-04\n",
      "Epoch 4/100\n",
      "166/166 [==============================] - 51s 305ms/step - loss: 0.0051 - val_loss: 8.2282e-04\n",
      "Epoch 5/100\n",
      "166/166 [==============================] - 50s 303ms/step - loss: 0.0042 - val_loss: 5.7667e-04\n",
      "Epoch 6/100\n",
      "166/166 [==============================] - 50s 301ms/step - loss: 0.0038 - val_loss: 5.8442e-04\n",
      "Epoch 7/100\n",
      "166/166 [==============================] - 50s 301ms/step - loss: 0.0036 - val_loss: 4.8489e-04\n",
      "Epoch 8/100\n",
      "166/166 [==============================] - 50s 299ms/step - loss: 0.0033 - val_loss: 4.5018e-04\n",
      "Epoch 9/100\n",
      "166/166 [==============================] - 50s 299ms/step - loss: 0.0032 - val_loss: 4.9923e-04\n",
      "Epoch 10/100\n",
      "166/166 [==============================] - 50s 298ms/step - loss: 0.0032 - val_loss: 4.8308e-04\n",
      "Epoch 11/100\n",
      "166/166 [==============================] - 49s 298ms/step - loss: 0.0031 - val_loss: 4.8010e-04\n",
      "Epoch 12/100\n",
      "166/166 [==============================] - 49s 298ms/step - loss: 0.0030 - val_loss: 5.1999e-04\n",
      "Epoch 13/100\n",
      "166/166 [==============================] - ETA: 0s - loss: 0.0029Restoring model weights from the end of the best epoch: 8.\n",
      "166/166 [==============================] - 50s 299ms/step - loss: 0.0029 - val_loss: 4.7421e-04\n",
      "Epoch 13: early stopping\n"
     ]
    }
   ],
   "source": [
    "with tf.device('cpu:0'): #my mac gpu sucks and trains really slow for some reason\n",
    "    training_history = cnn_lstm_model.fit(scaled_X_train,scaled_y_train, epochs=100, batch_size=64, validation_data=(scaled_X_val, scaled_y_val), verbose=1, callbacks=[early_stopping])"
   ]
  },
  {
   "cell_type": "code",
   "execution_count": 204,
   "metadata": {},
   "outputs": [
    {
     "data": {
      "text/plain": [
       "<matplotlib.legend.Legend at 0x6ae5232b0>"
      ]
     },
     "execution_count": 204,
     "metadata": {},
     "output_type": "execute_result"
    },
    {
     "data": {
      "image/png": "[encoded data removed]",
      "text/plain": [
       "<Figure size 2000x500 with 1 Axes>"
      ]
     },
     "metadata": {},
     "output_type": "display_data"
    }
   ],
   "source": [
    "plt.figure(figsize=(20,5))\n",
    "plt.plot(training_history.history['loss'], label='Training loss')\n",
    "plt.plot(training_history.history['val_loss'], label='Validation loss')\n",
    "plt.title('Training loss Vs. Validation loss')\n",
    "plt.legend()"
   ]
  },
  {
   "cell_type": "code",
   "execution_count": 205,
   "metadata": {},
   "outputs": [
    {
     "name": "stdout",
     "output_type": "stream",
     "text": [
      "332/332 [==============================] - 83s 242ms/step\n",
      "70/70 [==============================] - 19s 273ms/step\n",
      "70/70 [==============================] - 19s 272ms/step\n"
     ]
    }
   ],
   "source": [
    "train_pred = inverse_scaler.inverse_transform(cnn_lstm_model.predict(scaled_X_train).reshape(y_train.shape))\n",
    "val_pred = inverse_scaler.inverse_transform(cnn_lstm_model.predict(scaled_X_val).reshape(y_val.shape))\n",
    "test_pred = inverse_scaler.inverse_transform(cnn_lstm_model.predict(scaled_X_test).reshape(y_test.shape))\n",
    "nn_y_train_pred = reformat_predictions_actual(train_pred, org_X_train)\n",
    "nn_y_val_pred = reformat_predictions_actual(val_pred, org_X_val)\n",
    "nn_y_test_pred = reformat_predictions_actual(test_pred, org_X_test)"
   ]
  },
  {
   "cell_type": "code",
   "execution_count": 206,
   "metadata": {},
   "outputs": [],
   "source": [
    "nn_results = {\"train\": train_pred, \"val\": val_pred, \"test\": test_pred, \"formatted_train\": nn_y_train_pred, \"formatted_val\":nn_y_val_pred, \"formatted_test\": nn_y_test_pred}"
   ]
  },
  {
   "cell_type": "code",
   "execution_count": 207,
   "metadata": {},
   "outputs": [],
   "source": [
    "with open(\"../results/supply_nn_results.pkl\", \"wb\") as outfile: \n",
    "    pickle.dump(nn_results, outfile)"
   ]
  }
 ],
 "metadata": {
  "kernelspec": {
   "display_name": "base",
   "language": "python",
   "name": "python3"
  },
  "language_info": {
   "codemirror_mode": {
    "name": "ipython",
    "version": 3
   },
   "file_extension": ".py",
   "mimetype": "text/x-python",
   "name": "python",
   "nbconvert_exporter": "python",
   "pygments_lexer": "ipython3",
   "version": "3.10.13"
  }
 },
 "nbformat": 4,
 "nbformat_minor": 2
}
