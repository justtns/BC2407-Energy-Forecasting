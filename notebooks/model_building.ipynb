{
 "cells": [
  {
   "cell_type": "code",
   "execution_count": 39,
   "metadata": {},
   "outputs": [],
   "source": [
    "import pandas as pd\n",
    "import numpy as np\n",
    "import matplotlib.pyplot as plt\n",
    "import tensorflow as tf\n",
    "from sklearn.preprocessing import MinMaxScaler\n",
    "from sklearn.metrics import mean_squared_error, r2_score\n",
    "from statsmodels.tsa.stattools import adfuller\n",
    "import pickle\n",
    "\n"
   ]
  },
  {
   "cell_type": "markdown",
   "metadata": {},
   "source": [
    "## Feature Engineering"
   ]
  },
  {
   "cell_type": "code",
   "execution_count": 3,
   "metadata": {},
   "outputs": [],
   "source": [
    "df = pd.read_parquet(\"../data/processed/ENEFIT_dataset.parquet\")\n",
    "df['hour'] = df.index.hour\n",
    "df['month'] = df.index.month\n",
    "df['day'] = df.index.weekday + 1\n",
    "df['target_production'] = df['installed_capacity'] * df['direct_solar_radiation'] / (df['temperature'] + 273.15)\n",
    "df[\"capacity_per_eic\"] = np.round(df[\"installed_capacity\"] / df[\"eic_count\"], 2)\n",
    "df['Weekday'] = [0 if day > 4 else 1 for day in df.index.dayofweek]\n",
    "df['Weekday'] = df['Weekday'].astype('int64')  # Explicitly cast to int64\n"
   ]
  },
  {
   "cell_type": "code",
   "execution_count": 8,
   "metadata": {},
   "outputs": [],
   "source": [
    "def split_series(df, n_past, n_future, target_column_name, feature_column_names):\n",
    "    \"\"\"\n",
    "    Split a DataFrame into past features and future target arrays.\n",
    "\n",
    "    Parameters:\n",
    "    - df: DataFrame containing the time series data.\n",
    "    - n_past: Number of past observations to use for predicting the future.\n",
    "    - n_future: Number of future observations to predict.\n",
    "    - target_column_name: Name of the target column.\n",
    "    - feature_column_names: List of column names to be used as features.\n",
    "    - scaling: if dataset is scaled REMOVED\n",
    "\n",
    "    Returns:\n",
    "    - X: Array of past observations' features.\n",
    "    - y: Array of future observations' target values.\n",
    "    Only if scaling is true:\n",
    "    - feature_scaler: scaler for X REMOVED\n",
    "    - target_scaler: scaler for y REMOVED\n",
    "    \"\"\"\n",
    "\n",
    "    # if scaling == 1:\n",
    "    #     feature_scaler = MinMaxScaler()\n",
    "    #     target_scaler = MinMaxScaler()\n",
    "        \n",
    "    #     # Fit the scalers\n",
    "    #     feature_scaler.fit(df[feature_column_names])\n",
    "    #     target_scaler.fit(df[[target_column_name]])\n",
    "        \n",
    "    #     # Apply the transformations\n",
    "    #     scaled_features = feature_scaler.transform(df[feature_column_names])\n",
    "    #     scaled_target = target_scaler.transform(df[[target_column_name]])\n",
    "\n",
    "    X, y = list(), list()\n",
    "    for window_start in range(len(df)):\n",
    "        past_end = window_start + n_past\n",
    "        future_end = past_end + n_future\n",
    "        if future_end > len(df):\n",
    "            break\n",
    "        # Select the columns by name for the past and future segments\n",
    "        # if scaling == 1:\n",
    "        #     past = scaled_features[window_start:past_end]\n",
    "        #     future = scaled_target[past_end:future_end]\n",
    "        past = df.iloc[window_start:past_end][feature_column_names].values\n",
    "        future = df.iloc[past_end:future_end][target_column_name].values\n",
    "        X.append(past)\n",
    "        y.append(future)\n",
    "    X, y = np.array(X), np.array(y)\n",
    "    print(f\"X shape: {X.shape}, y shape: {y.shape}\")\n",
    "    # if scaling == 1:\n",
    "    #     return X, y, feature_scaler, target_scaler\n",
    "    return X, y\n",
    "\n",
    "def reformat_predictions_actual(pred, org_X_train):\n",
    "       '''\n",
    "       Converts the diff predictions into the original values, returns actual predictions and original values\n",
    "       y_train[1:,:] + org_y_train[0:-1,:] == org_y_train[1]\n",
    "       '''\n",
    "       final_predictions = np.zeros_like(pred)\n",
    "\n",
    "       for i in range(pred.shape[0]):\n",
    "              final_predictions[i, 0] = org_X_train[i,-1] + pred[i,0]\n",
    "              for j in range(1, pred.shape[1]):\n",
    "                     final_predictions[i, j] = final_predictions[i, j-1] + pred[i, j]\n",
    "       return final_predictions"
   ]
  },
  {
   "cell_type": "markdown",
   "metadata": {},
   "source": [
    "## DEMAND FORECAST"
   ]
  },
  {
   "cell_type": "code",
   "execution_count": 33,
   "metadata": {},
   "outputs": [
    {
     "name": "stdout",
     "output_type": "stream",
     "text": [
      "X shape: (10616, 24, 7), y shape: (10616, 24)\n",
      "X shape: (2238, 24, 7), y shape: (2238, 24)\n",
      "X shape: (2239, 24, 7), y shape: (2239, 24)\n",
      "X shape: (10616, 24, 7), y shape: (10616, 24)\n",
      "X shape: (2238, 24, 7), y shape: (2238, 24)\n",
      "X shape: (2239, 24, 7), y shape: (2239, 24)\n",
      "X shape: (10616, 24), y shape: (10616, 24)\n",
      "X shape: (2238, 24), y shape: (2238, 24)\n",
      "X shape: (2239, 24), y shape: (2239, 24)\n",
      "X shape: (10616, 24), y shape: (10616, 24)\n",
      "X shape: (2238, 24), y shape: (2238, 24)\n",
      "X shape: (2239, 24), y shape: (2239, 24)\n"
     ]
    }
   ],
   "source": [
    "\n",
    "n_past = 24\n",
    "n_future = 24\n",
    "target_column_name = 'diff_demand'\n",
    "train_df, val_df, test_df = df[1:int(len(df)*0.7)], df[int(len(df)*0.7):int(len(df)*0.7)+int(len(df)*0.15)], df[int(len(df)*0.7)+int(len(df)*0.15):] \n",
    "feature_column_names = [\"cloudcover_total\",\n",
    "                        \"diffuse_radiation\",\n",
    "                        \"24h_forecasted_direct_solar_radiation\",\n",
    "                        \"diff_demand\",\n",
    "                        \"hour\",\n",
    "                        \"day\",\n",
    "                        \"target_production\"]\n",
    "\n",
    "\n",
    "dataframe_scaler = MinMaxScaler()\n",
    "dataframe_scaler = dataframe_scaler.fit(train_df)\n",
    "inverse_scaler = MinMaxScaler()\n",
    "inverse_scaler = inverse_scaler.fit(train_df[[target_column_name]])\n",
    "scaled_train_df = pd.DataFrame(dataframe_scaler.transform(train_df), columns = train_df.columns)\n",
    "scaled_val_df = pd.DataFrame(dataframe_scaler.transform(val_df), columns = val_df.columns)\n",
    "scaled_test_df = pd.DataFrame(dataframe_scaler.transform(test_df), columns = test_df.columns)\n",
    "\n",
    "scaled_X_train, scaled_y_train = split_series(scaled_train_df,n_past, n_future, target_column_name, feature_column_names)\n",
    "scaled_X_val, scaled_y_val = split_series(scaled_val_df,n_past, n_future, target_column_name, feature_column_names)\n",
    "scaled_X_test, scaled_y_test = split_series(scaled_test_df,n_past, n_future, target_column_name, feature_column_names)\n",
    "\n",
    "X_train, y_train = split_series(train_df,n_past, n_future, target_column_name, feature_column_names)\n",
    "X_val, y_val = split_series(val_df,n_past, n_future, target_column_name, feature_column_names)\n",
    "X_test, y_test = split_series(test_df,n_past, n_future, target_column_name, feature_column_names)\n",
    "\n",
    "ARIMA_X_train, ARIMA_y_train = split_series(train_df,n_past, n_future, target_column_name, target_column_name)\n",
    "ARIMA_X_val, ARIMA_y_val = split_series(val_df,n_past, n_future, target_column_name, target_column_name)\n",
    "ARIMA_X_test, ARIMA_y_test = split_series(test_df,n_past, n_future, target_column_name, target_column_name)\n",
    "\n",
    "org_X_train, org_y_train = split_series(train_df,n_past, n_future, 'demand', 'demand')\n",
    "org_X_val, org_y_val = split_series(val_df,n_past, n_future, 'demand', 'demand')\n",
    "org_X_test, org_y_test = split_series(test_df,n_past, n_future, 'demand', 'demand')"
   ]
  },
  {
   "cell_type": "code",
   "execution_count": 34,
   "metadata": {},
   "outputs": [],
   "source": [
    "org_results = {\"train\": org_X_train, \"val\": org_X_val, \"test\": org_X_test}"
   ]
  },
  {
   "cell_type": "code",
   "execution_count": 35,
   "metadata": {},
   "outputs": [],
   "source": [
    "with open(\"../results/demand_org_results.pkl\", \"wb\") as outfile: \n",
    "    pickle.dump(org_results, outfile)"
   ]
  },
  {
   "cell_type": "markdown",
   "metadata": {},
   "source": [
    "### RANDOM FOREST"
   ]
  },
  {
   "cell_type": "code",
   "execution_count": 32,
   "metadata": {},
   "outputs": [],
   "source": [
    "from sklearn.ensemble import RandomForestRegressor\n",
    "\n",
    "X_train_flat = X_train.reshape(X_train.shape[0], -1)  \n",
    "X_val_flat = X_val.reshape(X_val.shape[0], -1)\n",
    "X_test_flat = X_test.reshape(X_test.shape[0], -1)"
   ]
  },
  {
   "cell_type": "code",
   "execution_count": null,
   "metadata": {},
   "outputs": [],
   "source": [
    "best_params = {\n",
    "    'n_estimators': [50, 100, 200, 300, 400, 500, 600, 700, 800],  \n",
    "    'max_features': [0.1, float(1/3), 2*float(1/3), 1] \n",
    "}\n",
    "\n",
    "oob_errors = []\n",
    "for n_estimators in best_params['n_estimators']:\n",
    "    rf = RandomForestRegressor(\n",
    "        n_estimators=n_estimators,\n",
    "        max_features = float(1/3),\n",
    "        oob_score=True,\n",
    "        random_state=42)\n",
    "    rf.fit(X_train_flat, y_train)\n",
    "    oob_error = 1 - rf.oob_score_\n",
    "    oob_errors.append(oob_error)\n",
    "    print(f'{n_estimators} trees: OOB error = {oob_error}')\n",
    "\n",
    "optimal_n_estimators = best_params['n_estimators'][oob_errors.index(min(oob_errors))]"
   ]
  },
  {
   "cell_type": "code",
   "execution_count": null,
   "metadata": {},
   "outputs": [],
   "source": [
    "plt.figure(figsize=(10, 6))\n",
    "plt.plot(best_params['n_estimators'], oob_errors, '-o', label='OOB Error Rate')\n",
    "plt.title('OOB Error Rate vs. Number of Estimators')\n",
    "plt.xlabel('Number of Estimators')\n",
    "plt.ylabel('OOB Error Rate')\n",
    "plt.grid(True)\n",
    "plt.legend()\n",
    "plt.show()"
   ]
  },
  {
   "cell_type": "code",
   "execution_count": null,
   "metadata": {},
   "outputs": [],
   "source": [
    "optimal_depth = None\n",
    "min_val_error = float('inf')\n",
    "for max_f in best_params['max_features']:\n",
    "    rf = RandomForestRegressor(\n",
    "        n_estimators=500,\n",
    "        max_features = max_f,\n",
    "        random_state=42,\n",
    "        n_jobs=-1\n",
    "    )\n",
    "    rf.fit(X_train_flat, y_train)\n",
    "    val_pred = rf.predict(X_val_flat)\n",
    "    val_error = mean_squared_error(y_val, val_pred)\n",
    "    if val_error < min_val_error:\n",
    "        min_val_error = val_error\n",
    "        optimal_depth = max_f\n",
    "    print(f'Max depth = {max_f}: Validation MSE = {val_error}')\n",
    "\n",
    "print(f'Optimal max depth: {optimal_depth}')"
   ]
  },
  {
   "cell_type": "code",
   "execution_count": null,
   "metadata": {},
   "outputs": [
    {
     "data": {
      "text/html": [
       "<style>#sk-container-id-2 {color: black;}#sk-container-id-2 pre{padding: 0;}#sk-container-id-2 div.sk-toggleable {background-color: white;}#sk-container-id-2 label.sk-toggleable__label {cursor: pointer;display: block;width: 100%;margin-bottom: 0;padding: 0.3em;box-sizing: border-box;text-align: center;}#sk-container-id-2 label.sk-toggleable__label-arrow:before {content: \"▸\";float: left;margin-right: 0.25em;color: #696969;}#sk-container-id-2 label.sk-toggleable__label-arrow:hover:before {color: black;}#sk-container-id-2 div.sk-estimator:hover label.sk-toggleable__label-arrow:before {color: black;}#sk-container-id-2 div.sk-toggleable__content {max-height: 0;max-width: 0;overflow: hidden;text-align: left;background-color: #f0f8ff;}#sk-container-id-2 div.sk-toggleable__content pre {margin: 0.2em;color: black;border-radius: 0.25em;background-color: #f0f8ff;}#sk-container-id-2 input.sk-toggleable__control:checked~div.sk-toggleable__content {max-height: 200px;max-width: 100%;overflow: auto;}#sk-container-id-2 input.sk-toggleable__control:checked~label.sk-toggleable__label-arrow:before {content: \"▾\";}#sk-container-id-2 div.sk-estimator input.sk-toggleable__control:checked~label.sk-toggleable__label {background-color: #d4ebff;}#sk-container-id-2 div.sk-label input.sk-toggleable__control:checked~label.sk-toggleable__label {background-color: #d4ebff;}#sk-container-id-2 input.sk-hidden--visually {border: 0;clip: rect(1px 1px 1px 1px);clip: rect(1px, 1px, 1px, 1px);height: 1px;margin: -1px;overflow: hidden;padding: 0;position: absolute;width: 1px;}#sk-container-id-2 div.sk-estimator {font-family: monospace;background-color: #f0f8ff;border: 1px dotted black;border-radius: 0.25em;box-sizing: border-box;margin-bottom: 0.5em;}#sk-container-id-2 div.sk-estimator:hover {background-color: #d4ebff;}#sk-container-id-2 div.sk-parallel-item::after {content: \"\";width: 100%;border-bottom: 1px solid gray;flex-grow: 1;}#sk-container-id-2 div.sk-label:hover label.sk-toggleable__label {background-color: #d4ebff;}#sk-container-id-2 div.sk-serial::before {content: \"\";position: absolute;border-left: 1px solid gray;box-sizing: border-box;top: 0;bottom: 0;left: 50%;z-index: 0;}#sk-container-id-2 div.sk-serial {display: flex;flex-direction: column;align-items: center;background-color: white;padding-right: 0.2em;padding-left: 0.2em;position: relative;}#sk-container-id-2 div.sk-item {position: relative;z-index: 1;}#sk-container-id-2 div.sk-parallel {display: flex;align-items: stretch;justify-content: center;background-color: white;position: relative;}#sk-container-id-2 div.sk-item::before, #sk-container-id-2 div.sk-parallel-item::before {content: \"\";position: absolute;border-left: 1px solid gray;box-sizing: border-box;top: 0;bottom: 0;left: 50%;z-index: -1;}#sk-container-id-2 div.sk-parallel-item {display: flex;flex-direction: column;z-index: 1;position: relative;background-color: white;}#sk-container-id-2 div.sk-parallel-item:first-child::after {align-self: flex-end;width: 50%;}#sk-container-id-2 div.sk-parallel-item:last-child::after {align-self: flex-start;width: 50%;}#sk-container-id-2 div.sk-parallel-item:only-child::after {width: 0;}#sk-container-id-2 div.sk-dashed-wrapped {border: 1px dashed gray;margin: 0 0.4em 0.5em 0.4em;box-sizing: border-box;padding-bottom: 0.4em;background-color: white;}#sk-container-id-2 div.sk-label label {font-family: monospace;font-weight: bold;display: inline-block;line-height: 1.2em;}#sk-container-id-2 div.sk-label-container {text-align: center;}#sk-container-id-2 div.sk-container {/* jupyter's `normalize.less` sets `[hidden] { display: none; }` but bootstrap.min.css set `[hidden] { display: none !important; }` so we also need the `!important` here to be able to override the default hidden behavior on the sphinx rendered scikit-learn.org. See: https://github.com/scikit-learn/scikit-learn/issues/21755 */display: inline-block !important;position: relative;}#sk-container-id-2 div.sk-text-repr-fallback {display: none;}</style><div id=\"sk-container-id-2\" class=\"sk-top-container\"><div class=\"sk-text-repr-fallback\"><pre>RandomForestRegressor(max_depth=20, max_features=0.3333333333333333,\n",
       "                      n_estimators=500, n_jobs=-1, random_state=42)</pre><b>In a Jupyter environment, please rerun this cell to show the HTML representation or trust the notebook. <br />On GitHub, the HTML representation is unable to render, please try loading this page with nbviewer.org.</b></div><div class=\"sk-container\" hidden><div class=\"sk-item\"><div class=\"sk-estimator sk-toggleable\"><input class=\"sk-toggleable__control sk-hidden--visually\" id=\"sk-estimator-id-2\" type=\"checkbox\" checked><label for=\"sk-estimator-id-2\" class=\"sk-toggleable__label sk-toggleable__label-arrow\">RandomForestRegressor</label><div class=\"sk-toggleable__content\"><pre>RandomForestRegressor(max_depth=20, max_features=0.3333333333333333,\n",
       "                      n_estimators=500, n_jobs=-1, random_state=42)</pre></div></div></div></div></div>"
      ],
      "text/plain": [
       "RandomForestRegressor(max_depth=20, max_features=0.3333333333333333,\n",
       "                      n_estimators=500, n_jobs=-1, random_state=42)"
      ]
     },
     "execution_count": 47,
     "metadata": {},
     "output_type": "execute_result"
    }
   ],
   "source": [
    "rfmodel = RandomForestRegressor(\n",
    "        n_estimators=500,\n",
    "        max_depth=20,\n",
    "        random_state=42,\n",
    "        max_features = float(1/3),\n",
    "        n_jobs=-1\n",
    "    )\n",
    "rfmodel.fit(X_train_flat, y_train)"
   ]
  },
  {
   "cell_type": "code",
   "execution_count": null,
   "metadata": {},
   "outputs": [],
   "source": [
    "train_pred = rfmodel.predict(X_train_flat)\n",
    "val_pred = rfmodel.predict(X_val_flat)\n",
    "test_pred = rfmodel.predict(X_test_flat)\n",
    "\n",
    "rf_y_train_pred = reformat_predictions_actual(train_pred, org_X_train)\n",
    "rf_y_val_pred = reformat_predictions_actual(val_pred, org_X_val)\n",
    "rf_y_test_pred = reformat_predictions_actual(test_pred, org_X_test)"
   ]
  },
  {
   "cell_type": "code",
   "execution_count": null,
   "metadata": {},
   "outputs": [],
   "source": [
    "rf_results = {\"train\": train_pred, \"val\": val_pred, \"test\": test_pred, \"formatted_train\": rf_y_train_pred, \"formatted_val\":rf_y_val_pred, \"formatted_test\": rf_y_test_pred}"
   ]
  },
  {
   "cell_type": "code",
   "execution_count": null,
   "metadata": {},
   "outputs": [],
   "source": [
    "with open(\"../results/demand_rf_results.pkl\", \"wb\") as outfile: \n",
    "    pickle.dump(rf_results, outfile)"
   ]
  },
  {
   "cell_type": "markdown",
   "metadata": {},
   "source": [
    "### CNN-LSTM"
   ]
  },
  {
   "cell_type": "code",
   "execution_count": null,
   "metadata": {},
   "outputs": [],
   "source": [
    "import tensorflow as tf\n",
    "from keras.layers import Bidirectional, Dense, Conv1D,MaxPooling1D, Dropout, LSTM, ReLU, Flatten, TimeDistributed, RepeatVector, LeakyReLU\n",
    "from keras.models import Sequential\n",
    "from tensorflow.keras.optimizers import Adam\n",
    "from tensorflow.keras.callbacks import EarlyStopping\n",
    "\n",
    "def build_lstm_model(X, y):\n",
    "    tf.random.set_seed(22)\n",
    "    \n",
    "    cnn_lstm_model = Sequential()\n",
    "    cnn_lstm_model.add((Conv1D(filters=64, kernel_size=3, padding='valid', input_shape= (X.shape[1],X.shape[2]))))\n",
    "    cnn_lstm_model.add(MaxPooling1D(pool_size=2))\n",
    "    cnn_lstm_model.add((Conv1D(filters=32, kernel_size=3, padding='valid')))\n",
    "    cnn_lstm_model.add(MaxPooling1D(pool_size=2))\n",
    "    cnn_lstm_model.add((Conv1D(filters=16, kernel_size=3, padding='valid')))\n",
    "    cnn_lstm_model.add(MaxPooling1D(pool_size=2))\n",
    "    cnn_lstm_model.add(Dropout(0.25))\n",
    "\n",
    "    cnn_lstm_model.add(Flatten())\n",
    "\n",
    "    cnn_lstm_model.add(RepeatVector(y.shape[1]))\n",
    "\n",
    "    cnn_lstm_model.add(Bidirectional(LSTM(128, activation='swish', return_sequences=True)))\n",
    "    cnn_lstm_model.add(Dropout(0.2))\n",
    "    cnn_lstm_model.add(Flatten())\n",
    "    cnn_lstm_model.add(RepeatVector(y.shape[1]))\n",
    "    cnn_lstm_model.add(Bidirectional(LSTM(128, activation='swish', return_sequences=True)))\n",
    "    cnn_lstm_model.add(Dropout(0.2))\n",
    "    cnn_lstm_model.add(TimeDistributed(Dense(1)))\n",
    "    cnn_lstm_model.compile(optimizer='adam', loss='mse')\n",
    "    cnn_lstm_model.summary()\n",
    "    return cnn_lstm_model\n",
    "\n",
    "early_stopping = EarlyStopping(monitor='val_loss', patience=10, verbose=1, mode='min', restore_best_weights=True)\n"
   ]
  },
  {
   "cell_type": "code",
   "execution_count": null,
   "metadata": {},
   "outputs": [
    {
     "name": "stderr",
     "output_type": "stream",
     "text": [
      "2024-03-20 10:20:42.669758: I metal_plugin/src/device/metal_device.cc:1154] Metal device set to: Apple M1 Pro\n",
      "2024-03-20 10:20:42.669993: I metal_plugin/src/device/metal_device.cc:296] systemMemory: 16.00 GB\n",
      "2024-03-20 10:20:42.670004: I metal_plugin/src/device/metal_device.cc:313] maxCacheSize: 5.33 GB\n",
      "2024-03-20 10:20:42.670255: I tensorflow/core/common_runtime/pluggable_device/pluggable_device_factory.cc:306] Could not identify NUMA node of platform GPU ID 0, defaulting to 0. Your kernel may not have been built with NUMA support.\n",
      "2024-03-20 10:20:42.670611: I tensorflow/core/common_runtime/pluggable_device/pluggable_device_factory.cc:272] Created TensorFlow device (/job:localhost/replica:0/task:0/device:GPU:0 with 0 MB memory) -> physical PluggableDevice (device: 0, name: METAL, pci bus id: <undefined>)\n"
     ]
    },
    {
     "name": "stdout",
     "output_type": "stream",
     "text": [
      "WARNING:tensorflow:Layer lstm will not use cuDNN kernels since it doesn't meet the criteria. It will use a generic GPU kernel as fallback when running on GPU.\n",
      "WARNING:tensorflow:Layer lstm will not use cuDNN kernels since it doesn't meet the criteria. It will use a generic GPU kernel as fallback when running on GPU.\n",
      "WARNING:tensorflow:Layer lstm will not use cuDNN kernels since it doesn't meet the criteria. It will use a generic GPU kernel as fallback when running on GPU.\n",
      "WARNING:tensorflow:Layer lstm_1 will not use cuDNN kernels since it doesn't meet the criteria. It will use a generic GPU kernel as fallback when running on GPU.\n",
      "WARNING:tensorflow:Layer lstm_1 will not use cuDNN kernels since it doesn't meet the criteria. It will use a generic GPU kernel as fallback when running on GPU.\n",
      "WARNING:tensorflow:Layer lstm_1 will not use cuDNN kernels since it doesn't meet the criteria. It will use a generic GPU kernel as fallback when running on GPU.\n",
      "Model: \"sequential\"\n",
      "_________________________________________________________________\n",
      " Layer (type)                Output Shape              Param #   \n",
      "=================================================================\n",
      " conv1d (Conv1D)             (None, 22, 64)            4096      \n",
      "                                                                 \n",
      " max_pooling1d (MaxPooling1  (None, 11, 64)            0         \n",
      " D)                                                              \n",
      "                                                                 \n",
      " conv1d_1 (Conv1D)           (None, 9, 32)             6176      \n",
      "                                                                 \n",
      " max_pooling1d_1 (MaxPoolin  (None, 4, 32)             0         \n",
      " g1D)                                                            \n",
      "                                                                 \n",
      " conv1d_2 (Conv1D)           (None, 2, 16)             1552      \n",
      "                                                                 \n",
      " max_pooling1d_2 (MaxPoolin  (None, 1, 16)             0         \n",
      " g1D)                                                            \n",
      "                                                                 \n",
      " dropout (Dropout)           (None, 1, 16)             0         \n",
      "                                                                 \n",
      " flatten (Flatten)           (None, 16)                0         \n",
      "                                                                 \n",
      " repeat_vector (RepeatVecto  (None, 24, 16)            0         \n",
      " r)                                                              \n",
      "                                                                 \n",
      " bidirectional (Bidirection  (None, 24, 256)           148480    \n",
      " al)                                                             \n",
      "                                                                 \n",
      " dropout_1 (Dropout)         (None, 24, 256)           0         \n",
      "                                                                 \n",
      " flatten_1 (Flatten)         (None, 6144)              0         \n",
      "                                                                 \n",
      " repeat_vector_1 (RepeatVec  (None, 24, 6144)          0         \n",
      " tor)                                                            \n",
      "                                                                 \n",
      " bidirectional_1 (Bidirecti  (None, 24, 256)           6423552   \n",
      " onal)                                                           \n",
      "                                                                 \n",
      " dropout_2 (Dropout)         (None, 24, 256)           0         \n",
      "                                                                 \n",
      " time_distributed (TimeDist  (None, 24, 1)             257       \n",
      " ributed)                                                        \n",
      "                                                                 \n",
      "=================================================================\n",
      "Total params: 6584113 (25.12 MB)\n",
      "Trainable params: 6584113 (25.12 MB)\n",
      "Non-trainable params: 0 (0.00 Byte)\n",
      "_________________________________________________________________\n"
     ]
    }
   ],
   "source": [
    "cnn_lstm_model = build_lstm_model(scaled_X_train,scaled_y_train)"
   ]
  },
  {
   "cell_type": "code",
   "execution_count": null,
   "metadata": {},
   "outputs": [
    {
     "name": "stdout",
     "output_type": "stream",
     "text": [
      "Epoch 1/100\n"
     ]
    },
    {
     "name": "stderr",
     "output_type": "stream",
     "text": [
      "2024-03-20 10:20:48.068401: I tensorflow/core/grappler/optimizers/custom_graph_optimizer_registry.cc:117] Plugin optimizer for device_type GPU is enabled.\n"
     ]
    },
    {
     "name": "stdout",
     "output_type": "stream",
     "text": [
      "166/166 [==============================] - 53s 303ms/step - loss: 0.0052 - val_loss: 0.0026\n",
      "Epoch 2/100\n",
      "166/166 [==============================] - 52s 312ms/step - loss: 0.0020 - val_loss: 0.0026\n",
      "Epoch 3/100\n",
      "166/166 [==============================] - 53s 317ms/step - loss: 0.0019 - val_loss: 0.0026\n",
      "Epoch 4/100\n",
      "166/166 [==============================] - 53s 318ms/step - loss: 0.0019 - val_loss: 0.0026\n",
      "Epoch 5/100\n",
      "166/166 [==============================] - 57s 341ms/step - loss: 0.0019 - val_loss: 0.0026\n",
      "Epoch 6/100\n",
      "166/166 [==============================] - 52s 312ms/step - loss: 0.0019 - val_loss: 0.0026\n",
      "Epoch 7/100\n",
      "166/166 [==============================] - 53s 317ms/step - loss: 0.0019 - val_loss: 0.0026\n",
      "Epoch 8/100\n",
      " 18/166 [==>...........................] - ETA: 45s - loss: 0.0019"
     ]
    },
    {
     "ename": "KeyboardInterrupt",
     "evalue": "",
     "output_type": "error",
     "traceback": [
      "\u001b[0;31m---------------------------------------------------------------------------\u001b[0m",
      "\u001b[0;31mKeyboardInterrupt\u001b[0m                         Traceback (most recent call last)",
      "Cell \u001b[0;32mIn[15], line 2\u001b[0m\n\u001b[1;32m      1\u001b[0m \u001b[38;5;28;01mwith\u001b[39;00m tf\u001b[38;5;241m.\u001b[39mdevice(\u001b[38;5;124m'\u001b[39m\u001b[38;5;124mcpu:0\u001b[39m\u001b[38;5;124m'\u001b[39m): \u001b[38;5;66;03m#my mac gpu sucks and trains really slow for some reason\u001b[39;00m\n\u001b[0;32m----> 2\u001b[0m     training_history \u001b[38;5;241m=\u001b[39m \u001b[43mcnn_lstm_model\u001b[49m\u001b[38;5;241;43m.\u001b[39;49m\u001b[43mfit\u001b[49m\u001b[43m(\u001b[49m\u001b[43mscaled_X_train\u001b[49m\u001b[43m,\u001b[49m\u001b[43mscaled_y_train\u001b[49m\u001b[43m,\u001b[49m\u001b[43m \u001b[49m\u001b[43mepochs\u001b[49m\u001b[38;5;241;43m=\u001b[39;49m\u001b[38;5;241;43m100\u001b[39;49m\u001b[43m,\u001b[49m\u001b[43m \u001b[49m\u001b[43mbatch_size\u001b[49m\u001b[38;5;241;43m=\u001b[39;49m\u001b[38;5;241;43m64\u001b[39;49m\u001b[43m,\u001b[49m\u001b[43m \u001b[49m\u001b[43mvalidation_data\u001b[49m\u001b[38;5;241;43m=\u001b[39;49m\u001b[43m(\u001b[49m\u001b[43mscaled_X_val\u001b[49m\u001b[43m,\u001b[49m\u001b[43m \u001b[49m\u001b[43mscaled_y_val\u001b[49m\u001b[43m)\u001b[49m\u001b[43m,\u001b[49m\u001b[43m \u001b[49m\u001b[43mverbose\u001b[49m\u001b[38;5;241;43m=\u001b[39;49m\u001b[38;5;241;43m1\u001b[39;49m\u001b[43m,\u001b[49m\u001b[43m \u001b[49m\u001b[43mcallbacks\u001b[49m\u001b[38;5;241;43m=\u001b[39;49m\u001b[43m[\u001b[49m\u001b[43mearly_stopping\u001b[49m\u001b[43m]\u001b[49m\u001b[43m)\u001b[49m\n",
      "File \u001b[0;32m~/opt/anaconda3/envs/ureca_env/lib/python3.10/site-packages/keras/src/utils/traceback_utils.py:65\u001b[0m, in \u001b[0;36mfilter_traceback.<locals>.error_handler\u001b[0;34m(*args, **kwargs)\u001b[0m\n\u001b[1;32m     63\u001b[0m filtered_tb \u001b[38;5;241m=\u001b[39m \u001b[38;5;28;01mNone\u001b[39;00m\n\u001b[1;32m     64\u001b[0m \u001b[38;5;28;01mtry\u001b[39;00m:\n\u001b[0;32m---> 65\u001b[0m     \u001b[38;5;28;01mreturn\u001b[39;00m \u001b[43mfn\u001b[49m\u001b[43m(\u001b[49m\u001b[38;5;241;43m*\u001b[39;49m\u001b[43margs\u001b[49m\u001b[43m,\u001b[49m\u001b[43m \u001b[49m\u001b[38;5;241;43m*\u001b[39;49m\u001b[38;5;241;43m*\u001b[39;49m\u001b[43mkwargs\u001b[49m\u001b[43m)\u001b[49m\n\u001b[1;32m     66\u001b[0m \u001b[38;5;28;01mexcept\u001b[39;00m \u001b[38;5;167;01mException\u001b[39;00m \u001b[38;5;28;01mas\u001b[39;00m e:\n\u001b[1;32m     67\u001b[0m     filtered_tb \u001b[38;5;241m=\u001b[39m _process_traceback_frames(e\u001b[38;5;241m.\u001b[39m__traceback__)\n",
      "File \u001b[0;32m~/opt/anaconda3/envs/ureca_env/lib/python3.10/site-packages/keras/src/engine/training.py:1807\u001b[0m, in \u001b[0;36mModel.fit\u001b[0;34m(self, x, y, batch_size, epochs, verbose, callbacks, validation_split, validation_data, shuffle, class_weight, sample_weight, initial_epoch, steps_per_epoch, validation_steps, validation_batch_size, validation_freq, max_queue_size, workers, use_multiprocessing)\u001b[0m\n\u001b[1;32m   1799\u001b[0m \u001b[38;5;28;01mwith\u001b[39;00m tf\u001b[38;5;241m.\u001b[39mprofiler\u001b[38;5;241m.\u001b[39mexperimental\u001b[38;5;241m.\u001b[39mTrace(\n\u001b[1;32m   1800\u001b[0m     \u001b[38;5;124m\"\u001b[39m\u001b[38;5;124mtrain\u001b[39m\u001b[38;5;124m\"\u001b[39m,\n\u001b[1;32m   1801\u001b[0m     epoch_num\u001b[38;5;241m=\u001b[39mepoch,\n\u001b[0;32m   (...)\u001b[0m\n\u001b[1;32m   1804\u001b[0m     _r\u001b[38;5;241m=\u001b[39m\u001b[38;5;241m1\u001b[39m,\n\u001b[1;32m   1805\u001b[0m ):\n\u001b[1;32m   1806\u001b[0m     callbacks\u001b[38;5;241m.\u001b[39mon_train_batch_begin(step)\n\u001b[0;32m-> 1807\u001b[0m     tmp_logs \u001b[38;5;241m=\u001b[39m \u001b[38;5;28;43mself\u001b[39;49m\u001b[38;5;241;43m.\u001b[39;49m\u001b[43mtrain_function\u001b[49m\u001b[43m(\u001b[49m\u001b[43miterator\u001b[49m\u001b[43m)\u001b[49m\n\u001b[1;32m   1808\u001b[0m     \u001b[38;5;28;01mif\u001b[39;00m data_handler\u001b[38;5;241m.\u001b[39mshould_sync:\n\u001b[1;32m   1809\u001b[0m         context\u001b[38;5;241m.\u001b[39masync_wait()\n",
      "File \u001b[0;32m~/opt/anaconda3/envs/ureca_env/lib/python3.10/site-packages/tensorflow/python/util/traceback_utils.py:150\u001b[0m, in \u001b[0;36mfilter_traceback.<locals>.error_handler\u001b[0;34m(*args, **kwargs)\u001b[0m\n\u001b[1;32m    148\u001b[0m filtered_tb \u001b[38;5;241m=\u001b[39m \u001b[38;5;28;01mNone\u001b[39;00m\n\u001b[1;32m    149\u001b[0m \u001b[38;5;28;01mtry\u001b[39;00m:\n\u001b[0;32m--> 150\u001b[0m   \u001b[38;5;28;01mreturn\u001b[39;00m \u001b[43mfn\u001b[49m\u001b[43m(\u001b[49m\u001b[38;5;241;43m*\u001b[39;49m\u001b[43margs\u001b[49m\u001b[43m,\u001b[49m\u001b[43m \u001b[49m\u001b[38;5;241;43m*\u001b[39;49m\u001b[38;5;241;43m*\u001b[39;49m\u001b[43mkwargs\u001b[49m\u001b[43m)\u001b[49m\n\u001b[1;32m    151\u001b[0m \u001b[38;5;28;01mexcept\u001b[39;00m \u001b[38;5;167;01mException\u001b[39;00m \u001b[38;5;28;01mas\u001b[39;00m e:\n\u001b[1;32m    152\u001b[0m   filtered_tb \u001b[38;5;241m=\u001b[39m _process_traceback_frames(e\u001b[38;5;241m.\u001b[39m__traceback__)\n",
      "File \u001b[0;32m~/opt/anaconda3/envs/ureca_env/lib/python3.10/site-packages/tensorflow/python/eager/polymorphic_function/polymorphic_function.py:832\u001b[0m, in \u001b[0;36mFunction.__call__\u001b[0;34m(self, *args, **kwds)\u001b[0m\n\u001b[1;32m    829\u001b[0m compiler \u001b[38;5;241m=\u001b[39m \u001b[38;5;124m\"\u001b[39m\u001b[38;5;124mxla\u001b[39m\u001b[38;5;124m\"\u001b[39m \u001b[38;5;28;01mif\u001b[39;00m \u001b[38;5;28mself\u001b[39m\u001b[38;5;241m.\u001b[39m_jit_compile \u001b[38;5;28;01melse\u001b[39;00m \u001b[38;5;124m\"\u001b[39m\u001b[38;5;124mnonXla\u001b[39m\u001b[38;5;124m\"\u001b[39m\n\u001b[1;32m    831\u001b[0m \u001b[38;5;28;01mwith\u001b[39;00m OptionalXlaContext(\u001b[38;5;28mself\u001b[39m\u001b[38;5;241m.\u001b[39m_jit_compile):\n\u001b[0;32m--> 832\u001b[0m   result \u001b[38;5;241m=\u001b[39m \u001b[38;5;28;43mself\u001b[39;49m\u001b[38;5;241;43m.\u001b[39;49m\u001b[43m_call\u001b[49m\u001b[43m(\u001b[49m\u001b[38;5;241;43m*\u001b[39;49m\u001b[43margs\u001b[49m\u001b[43m,\u001b[49m\u001b[43m \u001b[49m\u001b[38;5;241;43m*\u001b[39;49m\u001b[38;5;241;43m*\u001b[39;49m\u001b[43mkwds\u001b[49m\u001b[43m)\u001b[49m\n\u001b[1;32m    834\u001b[0m new_tracing_count \u001b[38;5;241m=\u001b[39m \u001b[38;5;28mself\u001b[39m\u001b[38;5;241m.\u001b[39mexperimental_get_tracing_count()\n\u001b[1;32m    835\u001b[0m without_tracing \u001b[38;5;241m=\u001b[39m (tracing_count \u001b[38;5;241m==\u001b[39m new_tracing_count)\n",
      "File \u001b[0;32m~/opt/anaconda3/envs/ureca_env/lib/python3.10/site-packages/tensorflow/python/eager/polymorphic_function/polymorphic_function.py:868\u001b[0m, in \u001b[0;36mFunction._call\u001b[0;34m(self, *args, **kwds)\u001b[0m\n\u001b[1;32m    865\u001b[0m   \u001b[38;5;28mself\u001b[39m\u001b[38;5;241m.\u001b[39m_lock\u001b[38;5;241m.\u001b[39mrelease()\n\u001b[1;32m    866\u001b[0m   \u001b[38;5;66;03m# In this case we have created variables on the first call, so we run the\u001b[39;00m\n\u001b[1;32m    867\u001b[0m   \u001b[38;5;66;03m# defunned version which is guaranteed to never create variables.\u001b[39;00m\n\u001b[0;32m--> 868\u001b[0m   \u001b[38;5;28;01mreturn\u001b[39;00m \u001b[43mtracing_compilation\u001b[49m\u001b[38;5;241;43m.\u001b[39;49m\u001b[43mcall_function\u001b[49m\u001b[43m(\u001b[49m\n\u001b[1;32m    869\u001b[0m \u001b[43m      \u001b[49m\u001b[43margs\u001b[49m\u001b[43m,\u001b[49m\u001b[43m \u001b[49m\u001b[43mkwds\u001b[49m\u001b[43m,\u001b[49m\u001b[43m \u001b[49m\u001b[38;5;28;43mself\u001b[39;49m\u001b[38;5;241;43m.\u001b[39;49m\u001b[43m_no_variable_creation_config\u001b[49m\n\u001b[1;32m    870\u001b[0m \u001b[43m  \u001b[49m\u001b[43m)\u001b[49m\n\u001b[1;32m    871\u001b[0m \u001b[38;5;28;01melif\u001b[39;00m \u001b[38;5;28mself\u001b[39m\u001b[38;5;241m.\u001b[39m_variable_creation_config \u001b[38;5;129;01mis\u001b[39;00m \u001b[38;5;129;01mnot\u001b[39;00m \u001b[38;5;28;01mNone\u001b[39;00m:\n\u001b[1;32m    872\u001b[0m   \u001b[38;5;66;03m# Release the lock early so that multiple threads can perform the call\u001b[39;00m\n\u001b[1;32m    873\u001b[0m   \u001b[38;5;66;03m# in parallel.\u001b[39;00m\n\u001b[1;32m    874\u001b[0m   \u001b[38;5;28mself\u001b[39m\u001b[38;5;241m.\u001b[39m_lock\u001b[38;5;241m.\u001b[39mrelease()\n",
      "File \u001b[0;32m~/opt/anaconda3/envs/ureca_env/lib/python3.10/site-packages/tensorflow/python/eager/polymorphic_function/tracing_compilation.py:139\u001b[0m, in \u001b[0;36mcall_function\u001b[0;34m(args, kwargs, tracing_options)\u001b[0m\n\u001b[1;32m    137\u001b[0m bound_args \u001b[38;5;241m=\u001b[39m function\u001b[38;5;241m.\u001b[39mfunction_type\u001b[38;5;241m.\u001b[39mbind(\u001b[38;5;241m*\u001b[39margs, \u001b[38;5;241m*\u001b[39m\u001b[38;5;241m*\u001b[39mkwargs)\n\u001b[1;32m    138\u001b[0m flat_inputs \u001b[38;5;241m=\u001b[39m function\u001b[38;5;241m.\u001b[39mfunction_type\u001b[38;5;241m.\u001b[39munpack_inputs(bound_args)\n\u001b[0;32m--> 139\u001b[0m \u001b[38;5;28;01mreturn\u001b[39;00m \u001b[43mfunction\u001b[49m\u001b[38;5;241;43m.\u001b[39;49m\u001b[43m_call_flat\u001b[49m\u001b[43m(\u001b[49m\u001b[43m  \u001b[49m\u001b[38;5;66;43;03m# pylint: disable=protected-access\u001b[39;49;00m\n\u001b[1;32m    140\u001b[0m \u001b[43m    \u001b[49m\u001b[43mflat_inputs\u001b[49m\u001b[43m,\u001b[49m\u001b[43m \u001b[49m\u001b[43mcaptured_inputs\u001b[49m\u001b[38;5;241;43m=\u001b[39;49m\u001b[43mfunction\u001b[49m\u001b[38;5;241;43m.\u001b[39;49m\u001b[43mcaptured_inputs\u001b[49m\n\u001b[1;32m    141\u001b[0m \u001b[43m\u001b[49m\u001b[43m)\u001b[49m\n",
      "File \u001b[0;32m~/opt/anaconda3/envs/ureca_env/lib/python3.10/site-packages/tensorflow/python/eager/polymorphic_function/concrete_function.py:1323\u001b[0m, in \u001b[0;36mConcreteFunction._call_flat\u001b[0;34m(self, tensor_inputs, captured_inputs)\u001b[0m\n\u001b[1;32m   1319\u001b[0m possible_gradient_type \u001b[38;5;241m=\u001b[39m gradients_util\u001b[38;5;241m.\u001b[39mPossibleTapeGradientTypes(args)\n\u001b[1;32m   1320\u001b[0m \u001b[38;5;28;01mif\u001b[39;00m (possible_gradient_type \u001b[38;5;241m==\u001b[39m gradients_util\u001b[38;5;241m.\u001b[39mPOSSIBLE_GRADIENT_TYPES_NONE\n\u001b[1;32m   1321\u001b[0m     \u001b[38;5;129;01mand\u001b[39;00m executing_eagerly):\n\u001b[1;32m   1322\u001b[0m   \u001b[38;5;66;03m# No tape is watching; skip to running the function.\u001b[39;00m\n\u001b[0;32m-> 1323\u001b[0m   \u001b[38;5;28;01mreturn\u001b[39;00m \u001b[38;5;28;43mself\u001b[39;49m\u001b[38;5;241;43m.\u001b[39;49m\u001b[43m_inference_function\u001b[49m\u001b[38;5;241;43m.\u001b[39;49m\u001b[43mcall_preflattened\u001b[49m\u001b[43m(\u001b[49m\u001b[43margs\u001b[49m\u001b[43m)\u001b[49m\n\u001b[1;32m   1324\u001b[0m forward_backward \u001b[38;5;241m=\u001b[39m \u001b[38;5;28mself\u001b[39m\u001b[38;5;241m.\u001b[39m_select_forward_and_backward_functions(\n\u001b[1;32m   1325\u001b[0m     args,\n\u001b[1;32m   1326\u001b[0m     possible_gradient_type,\n\u001b[1;32m   1327\u001b[0m     executing_eagerly)\n\u001b[1;32m   1328\u001b[0m forward_function, args_with_tangents \u001b[38;5;241m=\u001b[39m forward_backward\u001b[38;5;241m.\u001b[39mforward()\n",
      "File \u001b[0;32m~/opt/anaconda3/envs/ureca_env/lib/python3.10/site-packages/tensorflow/python/eager/polymorphic_function/atomic_function.py:216\u001b[0m, in \u001b[0;36mAtomicFunction.call_preflattened\u001b[0;34m(self, args)\u001b[0m\n\u001b[1;32m    214\u001b[0m \u001b[38;5;28;01mdef\u001b[39;00m \u001b[38;5;21mcall_preflattened\u001b[39m(\u001b[38;5;28mself\u001b[39m, args: Sequence[core\u001b[38;5;241m.\u001b[39mTensor]) \u001b[38;5;241m-\u001b[39m\u001b[38;5;241m>\u001b[39m Any:\n\u001b[1;32m    215\u001b[0m \u001b[38;5;250m  \u001b[39m\u001b[38;5;124;03m\"\"\"Calls with flattened tensor inputs and returns the structured output.\"\"\"\u001b[39;00m\n\u001b[0;32m--> 216\u001b[0m   flat_outputs \u001b[38;5;241m=\u001b[39m \u001b[38;5;28;43mself\u001b[39;49m\u001b[38;5;241;43m.\u001b[39;49m\u001b[43mcall_flat\u001b[49m\u001b[43m(\u001b[49m\u001b[38;5;241;43m*\u001b[39;49m\u001b[43margs\u001b[49m\u001b[43m)\u001b[49m\n\u001b[1;32m    217\u001b[0m   \u001b[38;5;28;01mreturn\u001b[39;00m \u001b[38;5;28mself\u001b[39m\u001b[38;5;241m.\u001b[39mfunction_type\u001b[38;5;241m.\u001b[39mpack_output(flat_outputs)\n",
      "File \u001b[0;32m~/opt/anaconda3/envs/ureca_env/lib/python3.10/site-packages/tensorflow/python/eager/polymorphic_function/atomic_function.py:251\u001b[0m, in \u001b[0;36mAtomicFunction.call_flat\u001b[0;34m(self, *args)\u001b[0m\n\u001b[1;32m    249\u001b[0m \u001b[38;5;28;01mwith\u001b[39;00m record\u001b[38;5;241m.\u001b[39mstop_recording():\n\u001b[1;32m    250\u001b[0m   \u001b[38;5;28;01mif\u001b[39;00m \u001b[38;5;28mself\u001b[39m\u001b[38;5;241m.\u001b[39m_bound_context\u001b[38;5;241m.\u001b[39mexecuting_eagerly():\n\u001b[0;32m--> 251\u001b[0m     outputs \u001b[38;5;241m=\u001b[39m \u001b[38;5;28;43mself\u001b[39;49m\u001b[38;5;241;43m.\u001b[39;49m\u001b[43m_bound_context\u001b[49m\u001b[38;5;241;43m.\u001b[39;49m\u001b[43mcall_function\u001b[49m\u001b[43m(\u001b[49m\n\u001b[1;32m    252\u001b[0m \u001b[43m        \u001b[49m\u001b[38;5;28;43mself\u001b[39;49m\u001b[38;5;241;43m.\u001b[39;49m\u001b[43mname\u001b[49m\u001b[43m,\u001b[49m\n\u001b[1;32m    253\u001b[0m \u001b[43m        \u001b[49m\u001b[38;5;28;43mlist\u001b[39;49m\u001b[43m(\u001b[49m\u001b[43margs\u001b[49m\u001b[43m)\u001b[49m\u001b[43m,\u001b[49m\n\u001b[1;32m    254\u001b[0m \u001b[43m        \u001b[49m\u001b[38;5;28;43mlen\u001b[39;49m\u001b[43m(\u001b[49m\u001b[38;5;28;43mself\u001b[39;49m\u001b[38;5;241;43m.\u001b[39;49m\u001b[43mfunction_type\u001b[49m\u001b[38;5;241;43m.\u001b[39;49m\u001b[43mflat_outputs\u001b[49m\u001b[43m)\u001b[49m\u001b[43m,\u001b[49m\n\u001b[1;32m    255\u001b[0m \u001b[43m    \u001b[49m\u001b[43m)\u001b[49m\n\u001b[1;32m    256\u001b[0m   \u001b[38;5;28;01melse\u001b[39;00m:\n\u001b[1;32m    257\u001b[0m     outputs \u001b[38;5;241m=\u001b[39m make_call_op_in_graph(\n\u001b[1;32m    258\u001b[0m         \u001b[38;5;28mself\u001b[39m,\n\u001b[1;32m    259\u001b[0m         \u001b[38;5;28mlist\u001b[39m(args),\n\u001b[1;32m    260\u001b[0m         \u001b[38;5;28mself\u001b[39m\u001b[38;5;241m.\u001b[39m_bound_context\u001b[38;5;241m.\u001b[39mfunction_call_options\u001b[38;5;241m.\u001b[39mas_attrs(),\n\u001b[1;32m    261\u001b[0m     )\n",
      "File \u001b[0;32m~/opt/anaconda3/envs/ureca_env/lib/python3.10/site-packages/tensorflow/python/eager/context.py:1486\u001b[0m, in \u001b[0;36mContext.call_function\u001b[0;34m(self, name, tensor_inputs, num_outputs)\u001b[0m\n\u001b[1;32m   1484\u001b[0m cancellation_context \u001b[38;5;241m=\u001b[39m cancellation\u001b[38;5;241m.\u001b[39mcontext()\n\u001b[1;32m   1485\u001b[0m \u001b[38;5;28;01mif\u001b[39;00m cancellation_context \u001b[38;5;129;01mis\u001b[39;00m \u001b[38;5;28;01mNone\u001b[39;00m:\n\u001b[0;32m-> 1486\u001b[0m   outputs \u001b[38;5;241m=\u001b[39m \u001b[43mexecute\u001b[49m\u001b[38;5;241;43m.\u001b[39;49m\u001b[43mexecute\u001b[49m\u001b[43m(\u001b[49m\n\u001b[1;32m   1487\u001b[0m \u001b[43m      \u001b[49m\u001b[43mname\u001b[49m\u001b[38;5;241;43m.\u001b[39;49m\u001b[43mdecode\u001b[49m\u001b[43m(\u001b[49m\u001b[38;5;124;43m\"\u001b[39;49m\u001b[38;5;124;43mutf-8\u001b[39;49m\u001b[38;5;124;43m\"\u001b[39;49m\u001b[43m)\u001b[49m\u001b[43m,\u001b[49m\n\u001b[1;32m   1488\u001b[0m \u001b[43m      \u001b[49m\u001b[43mnum_outputs\u001b[49m\u001b[38;5;241;43m=\u001b[39;49m\u001b[43mnum_outputs\u001b[49m\u001b[43m,\u001b[49m\n\u001b[1;32m   1489\u001b[0m \u001b[43m      \u001b[49m\u001b[43minputs\u001b[49m\u001b[38;5;241;43m=\u001b[39;49m\u001b[43mtensor_inputs\u001b[49m\u001b[43m,\u001b[49m\n\u001b[1;32m   1490\u001b[0m \u001b[43m      \u001b[49m\u001b[43mattrs\u001b[49m\u001b[38;5;241;43m=\u001b[39;49m\u001b[43mattrs\u001b[49m\u001b[43m,\u001b[49m\n\u001b[1;32m   1491\u001b[0m \u001b[43m      \u001b[49m\u001b[43mctx\u001b[49m\u001b[38;5;241;43m=\u001b[39;49m\u001b[38;5;28;43mself\u001b[39;49m\u001b[43m,\u001b[49m\n\u001b[1;32m   1492\u001b[0m \u001b[43m  \u001b[49m\u001b[43m)\u001b[49m\n\u001b[1;32m   1493\u001b[0m \u001b[38;5;28;01melse\u001b[39;00m:\n\u001b[1;32m   1494\u001b[0m   outputs \u001b[38;5;241m=\u001b[39m execute\u001b[38;5;241m.\u001b[39mexecute_with_cancellation(\n\u001b[1;32m   1495\u001b[0m       name\u001b[38;5;241m.\u001b[39mdecode(\u001b[38;5;124m\"\u001b[39m\u001b[38;5;124mutf-8\u001b[39m\u001b[38;5;124m\"\u001b[39m),\n\u001b[1;32m   1496\u001b[0m       num_outputs\u001b[38;5;241m=\u001b[39mnum_outputs,\n\u001b[0;32m   (...)\u001b[0m\n\u001b[1;32m   1500\u001b[0m       cancellation_manager\u001b[38;5;241m=\u001b[39mcancellation_context,\n\u001b[1;32m   1501\u001b[0m   )\n",
      "File \u001b[0;32m~/opt/anaconda3/envs/ureca_env/lib/python3.10/site-packages/tensorflow/python/eager/execute.py:53\u001b[0m, in \u001b[0;36mquick_execute\u001b[0;34m(op_name, num_outputs, inputs, attrs, ctx, name)\u001b[0m\n\u001b[1;32m     51\u001b[0m \u001b[38;5;28;01mtry\u001b[39;00m:\n\u001b[1;32m     52\u001b[0m   ctx\u001b[38;5;241m.\u001b[39mensure_initialized()\n\u001b[0;32m---> 53\u001b[0m   tensors \u001b[38;5;241m=\u001b[39m \u001b[43mpywrap_tfe\u001b[49m\u001b[38;5;241;43m.\u001b[39;49m\u001b[43mTFE_Py_Execute\u001b[49m\u001b[43m(\u001b[49m\u001b[43mctx\u001b[49m\u001b[38;5;241;43m.\u001b[39;49m\u001b[43m_handle\u001b[49m\u001b[43m,\u001b[49m\u001b[43m \u001b[49m\u001b[43mdevice_name\u001b[49m\u001b[43m,\u001b[49m\u001b[43m \u001b[49m\u001b[43mop_name\u001b[49m\u001b[43m,\u001b[49m\n\u001b[1;32m     54\u001b[0m \u001b[43m                                      \u001b[49m\u001b[43minputs\u001b[49m\u001b[43m,\u001b[49m\u001b[43m \u001b[49m\u001b[43mattrs\u001b[49m\u001b[43m,\u001b[49m\u001b[43m \u001b[49m\u001b[43mnum_outputs\u001b[49m\u001b[43m)\u001b[49m\n\u001b[1;32m     55\u001b[0m \u001b[38;5;28;01mexcept\u001b[39;00m core\u001b[38;5;241m.\u001b[39m_NotOkStatusException \u001b[38;5;28;01mas\u001b[39;00m e:\n\u001b[1;32m     56\u001b[0m   \u001b[38;5;28;01mif\u001b[39;00m name \u001b[38;5;129;01mis\u001b[39;00m \u001b[38;5;129;01mnot\u001b[39;00m \u001b[38;5;28;01mNone\u001b[39;00m:\n",
      "\u001b[0;31mKeyboardInterrupt\u001b[0m: "
     ]
    }
   ],
   "source": [
    "with tf.device('cpu:0'): #my mac gpu sucks and trains really slow for some reason\n",
    "    training_history = cnn_lstm_model.fit(scaled_X_train,scaled_y_train, epochs=100, batch_size=64, validation_data=(scaled_X_val, scaled_y_val), verbose=1, callbacks=[early_stopping])"
   ]
  },
  {
   "cell_type": "code",
   "execution_count": null,
   "metadata": {},
   "outputs": [],
   "source": [
    "plt.figure(figsize=(20,5))\n",
    "plt.plot(training_history.history['loss'], label='Training loss')\n",
    "plt.plot(training_history.history['val_loss'], label='Validation loss')\n",
    "plt.title('Training loss Vs. Validation loss')\n",
    "plt.legend()"
   ]
  },
  {
   "cell_type": "code",
   "execution_count": null,
   "metadata": {},
   "outputs": [],
   "source": [
    "train_pred = inverse_scaler.inverse_transform(cnn_lstm_model.predict(scaled_X_train).reshape(y_train.shape))\n",
    "val_pred = inverse_scaler.inverse_transform(cnn_lstm_model.predict(scaled_X_val).reshape(y_val.shape))\n",
    "test_pred = inverse_scaler.inverse_transform(cnn_lstm_model.predict(scaled_X_test).reshape(y_test.shape))\n",
    "nn_y_train_pred = reformat_predictions_actual(train_pred, org_X_train)\n",
    "nn_y_val_pred = reformat_predictions_actual(val_pred, org_X_val)\n",
    "nn_y_test_pred = reformat_predictions_actual(test_pred, org_X_test)"
   ]
  },
  {
   "cell_type": "code",
   "execution_count": null,
   "metadata": {},
   "outputs": [],
   "source": [
    "nn_results = {\"train\": train_pred, \"val\": val_pred, \"test\": test_pred, \"formatted_train\": nn_y_train_pred, \"formatted_val\":nn_y_val_pred, \"formatted_test\": nn_y_test_pred}"
   ]
  },
  {
   "cell_type": "code",
   "execution_count": null,
   "metadata": {},
   "outputs": [],
   "source": [
    "with open(\"../results/demand_nn_results.pkl\", \"wb\") as outfile: \n",
    "    pickle.dump(nn_results, outfile)"
   ]
  },
  {
   "cell_type": "markdown",
   "metadata": {},
   "source": [
    "## SOLAR FORECAST"
   ]
  },
  {
   "cell_type": "code",
   "execution_count": 36,
   "metadata": {},
   "outputs": [
    {
     "name": "stdout",
     "output_type": "stream",
     "text": [
      "X shape: (10616, 24, 6), y shape: (10616, 24)\n",
      "X shape: (2238, 24, 6), y shape: (2238, 24)\n",
      "X shape: (2239, 24, 6), y shape: (2239, 24)\n",
      "X shape: (10616, 24, 6), y shape: (10616, 24)\n",
      "X shape: (2238, 24, 6), y shape: (2238, 24)\n",
      "X shape: (2239, 24, 6), y shape: (2239, 24)\n",
      "X shape: (10616, 24), y shape: (10616, 24)\n",
      "X shape: (2238, 24), y shape: (2238, 24)\n",
      "X shape: (2239, 24), y shape: (2239, 24)\n",
      "X shape: (10616, 24), y shape: (10616, 24)\n",
      "X shape: (2238, 24), y shape: (2238, 24)\n",
      "X shape: (2239, 24), y shape: (2239, 24)\n"
     ]
    }
   ],
   "source": [
    "n_past = 24\n",
    "n_future = 24\n",
    "target_column_name = 'diff_supply'\n",
    "train_df, val_df, test_df = df[1:int(len(df)*0.7)], df[int(len(df)*0.7):int(len(df)*0.7)+int(len(df)*0.15)], df[int(len(df)*0.7)+int(len(df)*0.15):] \n",
    "feature_column_names = [\"rain\",\n",
    "                        \"cloudcover_total\",\n",
    "                        \"diffuse_radiation\",\n",
    "                        \"diff_supply\",\n",
    "                        \"hour\",\n",
    "                        \"target_production\"]\n",
    "# feature_column_names = ['target', 'eic_count','forecasted_temperature','forecasted_direct_solar_radiation','forecasted_surface_solar_radiation_downwards','hour','month','day']\n",
    "\n",
    "dataframe_scaler = MinMaxScaler()\n",
    "dataframe_scaler = dataframe_scaler.fit(train_df)\n",
    "inverse_scaler = MinMaxScaler()\n",
    "inverse_scaler = inverse_scaler.fit(train_df[[target_column_name]])\n",
    "scaled_train_df = pd.DataFrame(dataframe_scaler.transform(train_df), columns = train_df.columns)\n",
    "scaled_val_df = pd.DataFrame(dataframe_scaler.transform(val_df), columns = val_df.columns)\n",
    "scaled_test_df = pd.DataFrame(dataframe_scaler.transform(test_df), columns = test_df.columns)\n",
    "\n",
    "scaled_X_train, scaled_y_train = split_series(scaled_train_df,n_past, n_future, target_column_name, feature_column_names)\n",
    "scaled_X_val, scaled_y_val = split_series(scaled_val_df,n_past, n_future, target_column_name, feature_column_names)\n",
    "scaled_X_test, scaled_y_test = split_series(scaled_test_df,n_past, n_future, target_column_name, feature_column_names)\n",
    "\n",
    "X_train, y_train = split_series(train_df,n_past, n_future, target_column_name, feature_column_names)\n",
    "X_val, y_val = split_series(val_df,n_past, n_future, target_column_name, feature_column_names)\n",
    "X_test, y_test = split_series(test_df,n_past, n_future, target_column_name, feature_column_names)\n",
    "\n",
    "ARIMA_X_train, ARIMA_y_train = split_series(train_df,n_past, n_future, target_column_name, target_column_name)\n",
    "ARIMA_X_val, ARIMA_y_val = split_series(val_df,n_past, n_future, target_column_name, target_column_name)\n",
    "ARIMA_X_test, ARIMA_y_test = split_series(test_df,n_past, n_future, target_column_name, target_column_name)\n",
    "\n",
    "org_X_train, org_y_train = split_series(train_df,n_past, n_future, 'demand', 'demand')\n",
    "org_X_val, org_y_val = split_series(val_df,n_past, n_future, 'demand', 'demand')\n",
    "org_X_test, org_y_test = split_series(test_df,n_past, n_future, 'demand', 'demand')"
   ]
  },
  {
   "cell_type": "code",
   "execution_count": 37,
   "metadata": {},
   "outputs": [],
   "source": [
    "org_results = {\"train\": org_X_train, \"val\": org_X_val, \"test\": org_X_test}"
   ]
  },
  {
   "cell_type": "code",
   "execution_count": 38,
   "metadata": {},
   "outputs": [],
   "source": [
    "with open(\"../results/demand_org_results.pkl\", \"wb\") as outfile: \n",
    "    pickle.dump(org_results, outfile)"
   ]
  },
  {
   "cell_type": "markdown",
   "metadata": {},
   "source": [
    "### RANDOM FOREST"
   ]
  },
  {
   "cell_type": "code",
   "execution_count": null,
   "metadata": {},
   "outputs": [],
   "source": [
    "from sklearn.ensemble import RandomForestRegressor\n",
    "\n",
    "X_train_flat = X_train.reshape(X_train.shape[0], -1)  \n",
    "X_val_flat = X_val.reshape(X_val.shape[0], -1)\n",
    "X_test_flat = X_test.reshape(X_test.shape[0], -1)"
   ]
  },
  {
   "cell_type": "code",
   "execution_count": null,
   "metadata": {},
   "outputs": [],
   "source": [
    "best_params = {\n",
    "    'n_estimators': [50, 100, 200, 300, 400, 500, 600, 700, 800],  \n",
    "    'max_depth': [None, 1, 5, 10, 20, 50] \n",
    "}\n",
    "\n",
    "oob_errors = []\n",
    "for n_estimators in best_params['n_estimators']:\n",
    "    rf = RandomForestRegressor(\n",
    "        n_estimators=n_estimators,\n",
    "        max_features = float(1/3),\n",
    "        oob_score=True,\n",
    "        random_state=42)\n",
    "    rf.fit(X_train_flat, y_train)\n",
    "    oob_error = 1 - rf.oob_score_\n",
    "    oob_errors.append(oob_error)\n",
    "    print(f'{n_estimators} trees: OOB error = {oob_error}')\n",
    "\n",
    "optimal_n_estimators = best_params['n_estimators'][oob_errors.index(min(oob_errors))]"
   ]
  },
  {
   "cell_type": "code",
   "execution_count": null,
   "metadata": {},
   "outputs": [],
   "source": [
    "plt.figure(figsize=(10, 6))\n",
    "plt.plot(best_params['n_estimators'], oob_errors, '-o', label='OOB Error Rate')\n",
    "plt.title('OOB Error Rate vs. Number of Estimators')\n",
    "plt.xlabel('Number of Estimators')\n",
    "plt.ylabel('OOB Error Rate')\n",
    "plt.grid(True)\n",
    "plt.legend()\n",
    "plt.show()"
   ]
  },
  {
   "cell_type": "code",
   "execution_count": null,
   "metadata": {},
   "outputs": [],
   "source": [
    "best_params = {\n",
    "    'n_estimators': [100, 200, 300, 400, 500, 600],  \n",
    "    'max_depth': [None, 1, 5, 10, 20, 50, 100] \n",
    "}\n",
    "\n",
    "optimal_depth = None\n",
    "min_val_error = float('inf')\n",
    "for depth in best_params['max_depth']:\n",
    "    rf = RandomForestRegressor(\n",
    "        n_estimators=500,\n",
    "        max_depth=depth,\n",
    "        max_features = float(1/3),\n",
    "        random_state=42,\n",
    "        n_jobs=-1\n",
    "    )\n",
    "    rf.fit(X_train_flat, y_train)\n",
    "    val_pred = rf.predict(X_val_flat)\n",
    "    val_error = mean_squared_error(y_val, val_pred)\n",
    "    if val_error < min_val_error:\n",
    "        min_val_error = val_error\n",
    "        optimal_depth = depth\n",
    "    print(f'Max depth = {depth}: Validation MSE = {val_error}')\n",
    "\n",
    "print(f'Optimal max depth: {optimal_depth}')"
   ]
  },
  {
   "cell_type": "code",
   "execution_count": null,
   "metadata": {},
   "outputs": [],
   "source": [
    "rfmodel = RandomForestRegressor(\n",
    "        n_estimators=500,\n",
    "        max_depth=20,\n",
    "        random_state=42,\n",
    "        max_features = float(1/3),\n",
    "        n_jobs=-1\n",
    "    )\n",
    "rfmodel.fit(X_train_flat, y_train)"
   ]
  },
  {
   "cell_type": "code",
   "execution_count": null,
   "metadata": {},
   "outputs": [],
   "source": [
    "train_pred = rfmodel.predict(X_train_flat)\n",
    "val_pred = rfmodel.predict(X_val_flat)\n",
    "test_pred = rfmodel.predict(X_test_flat)\n",
    "\n",
    "rf_y_train_pred = reformat_predictions_actual(train_pred, org_X_train)\n",
    "rf_y_val_pred = reformat_predictions_actual(val_pred, org_X_val)\n",
    "rf_y_test_pred = reformat_predictions_actual(test_pred, org_X_test)"
   ]
  },
  {
   "cell_type": "code",
   "execution_count": null,
   "metadata": {},
   "outputs": [],
   "source": [
    "rf_results = {\"train\": train_pred, \"val\": val_pred, \"test\": test_pred, \"formatted_train\": rf_y_train_pred, \"formatted_val\":rf_y_val_pred, \"formatted_test\": rf_y_test_pred}"
   ]
  },
  {
   "cell_type": "code",
   "execution_count": null,
   "metadata": {},
   "outputs": [],
   "source": [
    "with open(\"../results/supply_rf_results.pkl\", \"wb\") as outfile: \n",
    "    pickle.dump(rf_results, outfile)"
   ]
  },
  {
   "cell_type": "markdown",
   "metadata": {},
   "source": [
    "### CNN-LSTM"
   ]
  },
  {
   "cell_type": "code",
   "execution_count": null,
   "metadata": {},
   "outputs": [],
   "source": [
    "import tensorflow as tf\n",
    "from keras.layers import Bidirectional, Dense, Conv1D,MaxPooling1D, Dropout, LSTM, ReLU, Flatten, TimeDistributed, RepeatVector, LeakyReLU\n",
    "from keras.models import Sequential\n",
    "from tensorflow.keras.optimizers import Adam\n",
    "from tensorflokeras.callbacks import EarlyStopping\n",
    "\n",
    "def build_lstm_model(X, y):\n",
    "    tf.random.set_seed(22)\n",
    "    \n",
    "    cnn_lstm_model = Sequential()\n",
    "    cnn_lstm_model.add((Conv1D(filters=64, kernel_size=3, padding='valid', input_shape= (X.shape[1],X.shape[2]))))\n",
    "    cnn_lstm_model.add(MaxPooling1D(pool_size=2))\n",
    "    cnn_lstm_model.add((Conv1D(filters=32, kernel_size=3, padding='valid')))\n",
    "    cnn_lstm_model.add(MaxPooling1D(pool_size=2))\n",
    "    cnn_lstm_model.add((Conv1D(filters=16, kernel_size=3, padding='valid')))\n",
    "    cnn_lstm_model.add(MaxPooling1D(pool_size=2))\n",
    "    cnn_lstm_model.add(Dropout(0.25))\n",
    "\n",
    "    cnn_lstm_model.add(Flatten())\n",
    "\n",
    "    cnn_lstm_model.add(RepeatVector(y.shape[1]))\n",
    "\n",
    "    cnn_lstm_model.add(Bidirectional(LSTM(128, activation='swish', return_sequences=True)))\n",
    "    cnn_lstm_model.add(Dropout(0.2))\n",
    "    cnn_lstm_model.add(Flatten())\n",
    "    cnn_lstm_model.add(RepeatVector(y.shape[1]))\n",
    "    cnn_lstm_model.add(Bidirectional(LSTM(128, activation='swish', return_sequences=True)))\n",
    "    cnn_lstm_model.add(Dropout(0.2))\n",
    "    cnn_lstm_model.add(TimeDistributed(Dense(1)))\n",
    "    cnn_lstm_model.compile(optimizer='adam', loss='mse')\n",
    "    cnn_lstm_model.summary()\n",
    "    return cnn_lstm_model\n",
    "\n",
    "early_stopping = EarlyStopping(monitor='val_loss', patience=10, verbose=1, mode='min', restore_best_weights=True)\n"
   ]
  },
  {
   "cell_type": "code",
   "execution_count": null,
   "metadata": {},
   "outputs": [],
   "source": [
    "cnn_lstm_model = build_lstm_model(scaled_X_train,scaled_y_train)"
   ]
  },
  {
   "cell_type": "code",
   "execution_count": null,
   "metadata": {},
   "outputs": [],
   "source": [
    "with tf.device('cpu:0'): #my mac gpu sucks and trains really slow for some reason\n",
    "    training_history = cnn_lstm_model.fit(scaled_X_train,scaled_y_train, epochs=100, batch_size=64, validation_data=(scaled_X_val, scaled_y_val), verbose=1, callbacks=[early_stopping])"
   ]
  },
  {
   "cell_type": "code",
   "execution_count": null,
   "metadata": {},
   "outputs": [],
   "source": [
    "plt.figure(figsize=(20,5))\n",
    "plt.plot(training_history.history['loss'], label='Training loss')\n",
    "plt.plot(training_history.history['val_loss'], label='Validation loss')\n",
    "plt.title('Training loss Vs. Validation loss')\n",
    "plt.legend()"
   ]
  },
  {
   "cell_type": "code",
   "execution_count": null,
   "metadata": {},
   "outputs": [],
   "source": [
    "train_pred = inverse_scaler.inverse_transform(cnn_lstm_model.predict(scaled_X_train).reshape(y_train.shape))\n",
    "val_pred = inverse_scaler.inverse_transform(cnn_lstm_model.predict(scaled_X_val).reshape(y_val.shape))\n",
    "test_pred = inverse_scaler.inverse_transform(cnn_lstm_model.predict(scaled_X_test).reshape(y_test.shape))\n",
    "nn_y_train_pred = reformat_predictions_actual(train_pred, org_X_train)\n",
    "nn_y_val_pred = reformat_predictions_actual(val_pred, org_X_val)\n",
    "nn_y_test_pred = reformat_predictions_actual(test_pred, org_X_test)"
   ]
  },
  {
   "cell_type": "code",
   "execution_count": null,
   "metadata": {},
   "outputs": [],
   "source": [
    "nn_results = {\"train\": train_pred, \"val\": val_pred, \"test\": test_pred, \"formatted_train\": nn_y_train_pred, \"formatted_val\":nn_y_val_pred, \"formatted_test\": nn_y_test_pred}"
   ]
  },
  {
   "cell_type": "code",
   "execution_count": null,
   "metadata": {},
   "outputs": [],
   "source": [
    "with open(\"../results/supply_nn_results.pkl\", \"wb\") as outfile: \n",
    "    pickle.dump(nn_results, outfile)"
   ]
  }
 ],
 "metadata": {
  "kernelspec": {
   "display_name": "base",
   "language": "python",
   "name": "python3"
  },
  "language_info": {
   "codemirror_mode": {
    "name": "ipython",
    "version": 3
   },
   "file_extension": ".py",
   "mimetype": "text/x-python",
   "name": "python",
   "nbconvert_exporter": "python",
   "pygments_lexer": "ipython3",
   "version": "3.11.4"
  }
 },
 "nbformat": 4,
 "nbformat_minor": 2
}
